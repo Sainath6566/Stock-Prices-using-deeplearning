{
  "nbformat": 4,
  "nbformat_minor": 0,
  "metadata": {
    "colab": {
      "provenance": [],
      "gpuType": "T4"
    },
    "kernelspec": {
      "name": "python3",
      "display_name": "Python 3"
    },
    "language_info": {
      "name": "python"
    },
    "accelerator": "GPU"
  },
  "cells": [
    {
      "cell_type": "code",
      "execution_count": 2471,
      "metadata": {
        "id": "gckqq0UoL-Yv"
      },
      "outputs": [],
      "source": [
        "import pandas as pd\n",
        "import numpy as np\n",
        "import matplotlib.pyplot as plt"
      ]
    },
    {
      "cell_type": "code",
      "source": [
        "df=pd.read_excel('Bharati_Airtel.xlsx',parse_dates=True,index_col=0)"
      ],
      "metadata": {
        "id": "VLJzpc2bV8kL"
      },
      "execution_count": 2472,
      "outputs": []
    },
    {
      "cell_type": "code",
      "source": [
        "df.head()"
      ],
      "metadata": {
        "colab": {
          "base_uri": "https://localhost:8080/",
          "height": 237
        },
        "id": "bTNt5jT69i3G",
        "outputId": "de525ef5-9133-4c2d-bbc4-7758fb9f8381"
      },
      "execution_count": 2473,
      "outputs": [
        {
          "output_type": "execute_result",
          "data": {
            "text/plain": [
              "           series    OPEN    HIGH     LOW   PREV. CLOSE     ltp   close   \\\n",
              "Date                                                                       \n",
              "2023-09-04      EQ  865.75  869.45  859.70        865.95  862.10  865.30   \n",
              "2023-09-01      EQ  853.15  867.55  852.75        856.40  864.35  865.95   \n",
              "2023-08-31      EQ  855.50  859.50  847.05        857.75  857.05  856.40   \n",
              "2023-08-30      EQ  859.85  862.60  856.45        855.20  858.15  857.75   \n",
              "2023-08-29      EQ  870.00  870.00  848.50        870.35  855.30  855.20   \n",
              "\n",
              "             vwap   52W H   52W L    VOLUME         VALUE   No of trades   \n",
              "Date                                                                       \n",
              "2023-09-04  864.14   901.4   686.2   3102649  2.681133e+09         106343  \n",
              "2023-09-01  862.18   901.4   686.2   4427899  3.817652e+09         146461  \n",
              "2023-08-31  856.37   901.4   686.2  12528190  1.072881e+10         148103  \n",
              "2023-08-30  859.54   901.4   686.2   3261665  2.803520e+09          94793  \n",
              "2023-08-29  855.42   901.4   686.2  14064286  1.203084e+10         174320  "
            ],
            "text/html": [
              "\n",
              "  <div id=\"df-7547388c-fd1c-4b75-90b2-0a87dff815bc\" class=\"colab-df-container\">\n",
              "    <div>\n",
              "<style scoped>\n",
              "    .dataframe tbody tr th:only-of-type {\n",
              "        vertical-align: middle;\n",
              "    }\n",
              "\n",
              "    .dataframe tbody tr th {\n",
              "        vertical-align: top;\n",
              "    }\n",
              "\n",
              "    .dataframe thead th {\n",
              "        text-align: right;\n",
              "    }\n",
              "</style>\n",
              "<table border=\"1\" class=\"dataframe\">\n",
              "  <thead>\n",
              "    <tr style=\"text-align: right;\">\n",
              "      <th></th>\n",
              "      <th>series</th>\n",
              "      <th>OPEN</th>\n",
              "      <th>HIGH</th>\n",
              "      <th>LOW</th>\n",
              "      <th>PREV. CLOSE</th>\n",
              "      <th>ltp</th>\n",
              "      <th>close</th>\n",
              "      <th>vwap</th>\n",
              "      <th>52W H</th>\n",
              "      <th>52W L</th>\n",
              "      <th>VOLUME</th>\n",
              "      <th>VALUE</th>\n",
              "      <th>No of trades</th>\n",
              "    </tr>\n",
              "    <tr>\n",
              "      <th>Date</th>\n",
              "      <th></th>\n",
              "      <th></th>\n",
              "      <th></th>\n",
              "      <th></th>\n",
              "      <th></th>\n",
              "      <th></th>\n",
              "      <th></th>\n",
              "      <th></th>\n",
              "      <th></th>\n",
              "      <th></th>\n",
              "      <th></th>\n",
              "      <th></th>\n",
              "      <th></th>\n",
              "    </tr>\n",
              "  </thead>\n",
              "  <tbody>\n",
              "    <tr>\n",
              "      <th>2023-09-04</th>\n",
              "      <td>EQ</td>\n",
              "      <td>865.75</td>\n",
              "      <td>869.45</td>\n",
              "      <td>859.70</td>\n",
              "      <td>865.95</td>\n",
              "      <td>862.10</td>\n",
              "      <td>865.30</td>\n",
              "      <td>864.14</td>\n",
              "      <td>901.4</td>\n",
              "      <td>686.2</td>\n",
              "      <td>3102649</td>\n",
              "      <td>2.681133e+09</td>\n",
              "      <td>106343</td>\n",
              "    </tr>\n",
              "    <tr>\n",
              "      <th>2023-09-01</th>\n",
              "      <td>EQ</td>\n",
              "      <td>853.15</td>\n",
              "      <td>867.55</td>\n",
              "      <td>852.75</td>\n",
              "      <td>856.40</td>\n",
              "      <td>864.35</td>\n",
              "      <td>865.95</td>\n",
              "      <td>862.18</td>\n",
              "      <td>901.4</td>\n",
              "      <td>686.2</td>\n",
              "      <td>4427899</td>\n",
              "      <td>3.817652e+09</td>\n",
              "      <td>146461</td>\n",
              "    </tr>\n",
              "    <tr>\n",
              "      <th>2023-08-31</th>\n",
              "      <td>EQ</td>\n",
              "      <td>855.50</td>\n",
              "      <td>859.50</td>\n",
              "      <td>847.05</td>\n",
              "      <td>857.75</td>\n",
              "      <td>857.05</td>\n",
              "      <td>856.40</td>\n",
              "      <td>856.37</td>\n",
              "      <td>901.4</td>\n",
              "      <td>686.2</td>\n",
              "      <td>12528190</td>\n",
              "      <td>1.072881e+10</td>\n",
              "      <td>148103</td>\n",
              "    </tr>\n",
              "    <tr>\n",
              "      <th>2023-08-30</th>\n",
              "      <td>EQ</td>\n",
              "      <td>859.85</td>\n",
              "      <td>862.60</td>\n",
              "      <td>856.45</td>\n",
              "      <td>855.20</td>\n",
              "      <td>858.15</td>\n",
              "      <td>857.75</td>\n",
              "      <td>859.54</td>\n",
              "      <td>901.4</td>\n",
              "      <td>686.2</td>\n",
              "      <td>3261665</td>\n",
              "      <td>2.803520e+09</td>\n",
              "      <td>94793</td>\n",
              "    </tr>\n",
              "    <tr>\n",
              "      <th>2023-08-29</th>\n",
              "      <td>EQ</td>\n",
              "      <td>870.00</td>\n",
              "      <td>870.00</td>\n",
              "      <td>848.50</td>\n",
              "      <td>870.35</td>\n",
              "      <td>855.30</td>\n",
              "      <td>855.20</td>\n",
              "      <td>855.42</td>\n",
              "      <td>901.4</td>\n",
              "      <td>686.2</td>\n",
              "      <td>14064286</td>\n",
              "      <td>1.203084e+10</td>\n",
              "      <td>174320</td>\n",
              "    </tr>\n",
              "  </tbody>\n",
              "</table>\n",
              "</div>\n",
              "    <div class=\"colab-df-buttons\">\n",
              "\n",
              "  <div class=\"colab-df-container\">\n",
              "    <button class=\"colab-df-convert\" onclick=\"convertToInteractive('df-7547388c-fd1c-4b75-90b2-0a87dff815bc')\"\n",
              "            title=\"Convert this dataframe to an interactive table.\"\n",
              "            style=\"display:none;\">\n",
              "\n",
              "  <svg xmlns=\"http://www.w3.org/2000/svg\" height=\"24px\" viewBox=\"0 -960 960 960\">\n",
              "    <path d=\"M120-120v-720h720v720H120Zm60-500h600v-160H180v160Zm220 220h160v-160H400v160Zm0 220h160v-160H400v160ZM180-400h160v-160H180v160Zm440 0h160v-160H620v160ZM180-180h160v-160H180v160Zm440 0h160v-160H620v160Z\"/>\n",
              "  </svg>\n",
              "    </button>\n",
              "\n",
              "  <style>\n",
              "    .colab-df-container {\n",
              "      display:flex;\n",
              "      gap: 12px;\n",
              "    }\n",
              "\n",
              "    .colab-df-convert {\n",
              "      background-color: #E8F0FE;\n",
              "      border: none;\n",
              "      border-radius: 50%;\n",
              "      cursor: pointer;\n",
              "      display: none;\n",
              "      fill: #1967D2;\n",
              "      height: 32px;\n",
              "      padding: 0 0 0 0;\n",
              "      width: 32px;\n",
              "    }\n",
              "\n",
              "    .colab-df-convert:hover {\n",
              "      background-color: #E2EBFA;\n",
              "      box-shadow: 0px 1px 2px rgba(60, 64, 67, 0.3), 0px 1px 3px 1px rgba(60, 64, 67, 0.15);\n",
              "      fill: #174EA6;\n",
              "    }\n",
              "\n",
              "    .colab-df-buttons div {\n",
              "      margin-bottom: 4px;\n",
              "    }\n",
              "\n",
              "    [theme=dark] .colab-df-convert {\n",
              "      background-color: #3B4455;\n",
              "      fill: #D2E3FC;\n",
              "    }\n",
              "\n",
              "    [theme=dark] .colab-df-convert:hover {\n",
              "      background-color: #434B5C;\n",
              "      box-shadow: 0px 1px 3px 1px rgba(0, 0, 0, 0.15);\n",
              "      filter: drop-shadow(0px 1px 2px rgba(0, 0, 0, 0.3));\n",
              "      fill: #FFFFFF;\n",
              "    }\n",
              "  </style>\n",
              "\n",
              "    <script>\n",
              "      const buttonEl =\n",
              "        document.querySelector('#df-7547388c-fd1c-4b75-90b2-0a87dff815bc button.colab-df-convert');\n",
              "      buttonEl.style.display =\n",
              "        google.colab.kernel.accessAllowed ? 'block' : 'none';\n",
              "\n",
              "      async function convertToInteractive(key) {\n",
              "        const element = document.querySelector('#df-7547388c-fd1c-4b75-90b2-0a87dff815bc');\n",
              "        const dataTable =\n",
              "          await google.colab.kernel.invokeFunction('convertToInteractive',\n",
              "                                                    [key], {});\n",
              "        if (!dataTable) return;\n",
              "\n",
              "        const docLinkHtml = 'Like what you see? Visit the ' +\n",
              "          '<a target=\"_blank\" href=https://colab.research.google.com/notebooks/data_table.ipynb>data table notebook</a>'\n",
              "          + ' to learn more about interactive tables.';\n",
              "        element.innerHTML = '';\n",
              "        dataTable['output_type'] = 'display_data';\n",
              "        await google.colab.output.renderOutput(dataTable, element);\n",
              "        const docLink = document.createElement('div');\n",
              "        docLink.innerHTML = docLinkHtml;\n",
              "        element.appendChild(docLink);\n",
              "      }\n",
              "    </script>\n",
              "  </div>\n",
              "\n",
              "\n",
              "<div id=\"df-c8792dce-cb1a-409c-8cec-81e0956d026f\">\n",
              "  <button class=\"colab-df-quickchart\" onclick=\"quickchart('df-c8792dce-cb1a-409c-8cec-81e0956d026f')\"\n",
              "            title=\"Suggest charts.\"\n",
              "            style=\"display:none;\">\n",
              "\n",
              "<svg xmlns=\"http://www.w3.org/2000/svg\" height=\"24px\"viewBox=\"0 0 24 24\"\n",
              "     width=\"24px\">\n",
              "    <g>\n",
              "        <path d=\"M19 3H5c-1.1 0-2 .9-2 2v14c0 1.1.9 2 2 2h14c1.1 0 2-.9 2-2V5c0-1.1-.9-2-2-2zM9 17H7v-7h2v7zm4 0h-2V7h2v10zm4 0h-2v-4h2v4z\"/>\n",
              "    </g>\n",
              "</svg>\n",
              "  </button>\n",
              "\n",
              "<style>\n",
              "  .colab-df-quickchart {\n",
              "      --bg-color: #E8F0FE;\n",
              "      --fill-color: #1967D2;\n",
              "      --hover-bg-color: #E2EBFA;\n",
              "      --hover-fill-color: #174EA6;\n",
              "      --disabled-fill-color: #AAA;\n",
              "      --disabled-bg-color: #DDD;\n",
              "  }\n",
              "\n",
              "  [theme=dark] .colab-df-quickchart {\n",
              "      --bg-color: #3B4455;\n",
              "      --fill-color: #D2E3FC;\n",
              "      --hover-bg-color: #434B5C;\n",
              "      --hover-fill-color: #FFFFFF;\n",
              "      --disabled-bg-color: #3B4455;\n",
              "      --disabled-fill-color: #666;\n",
              "  }\n",
              "\n",
              "  .colab-df-quickchart {\n",
              "    background-color: var(--bg-color);\n",
              "    border: none;\n",
              "    border-radius: 50%;\n",
              "    cursor: pointer;\n",
              "    display: none;\n",
              "    fill: var(--fill-color);\n",
              "    height: 32px;\n",
              "    padding: 0;\n",
              "    width: 32px;\n",
              "  }\n",
              "\n",
              "  .colab-df-quickchart:hover {\n",
              "    background-color: var(--hover-bg-color);\n",
              "    box-shadow: 0 1px 2px rgba(60, 64, 67, 0.3), 0 1px 3px 1px rgba(60, 64, 67, 0.15);\n",
              "    fill: var(--button-hover-fill-color);\n",
              "  }\n",
              "\n",
              "  .colab-df-quickchart-complete:disabled,\n",
              "  .colab-df-quickchart-complete:disabled:hover {\n",
              "    background-color: var(--disabled-bg-color);\n",
              "    fill: var(--disabled-fill-color);\n",
              "    box-shadow: none;\n",
              "  }\n",
              "\n",
              "  .colab-df-spinner {\n",
              "    border: 2px solid var(--fill-color);\n",
              "    border-color: transparent;\n",
              "    border-bottom-color: var(--fill-color);\n",
              "    animation:\n",
              "      spin 1s steps(1) infinite;\n",
              "  }\n",
              "\n",
              "  @keyframes spin {\n",
              "    0% {\n",
              "      border-color: transparent;\n",
              "      border-bottom-color: var(--fill-color);\n",
              "      border-left-color: var(--fill-color);\n",
              "    }\n",
              "    20% {\n",
              "      border-color: transparent;\n",
              "      border-left-color: var(--fill-color);\n",
              "      border-top-color: var(--fill-color);\n",
              "    }\n",
              "    30% {\n",
              "      border-color: transparent;\n",
              "      border-left-color: var(--fill-color);\n",
              "      border-top-color: var(--fill-color);\n",
              "      border-right-color: var(--fill-color);\n",
              "    }\n",
              "    40% {\n",
              "      border-color: transparent;\n",
              "      border-right-color: var(--fill-color);\n",
              "      border-top-color: var(--fill-color);\n",
              "    }\n",
              "    60% {\n",
              "      border-color: transparent;\n",
              "      border-right-color: var(--fill-color);\n",
              "    }\n",
              "    80% {\n",
              "      border-color: transparent;\n",
              "      border-right-color: var(--fill-color);\n",
              "      border-bottom-color: var(--fill-color);\n",
              "    }\n",
              "    90% {\n",
              "      border-color: transparent;\n",
              "      border-bottom-color: var(--fill-color);\n",
              "    }\n",
              "  }\n",
              "</style>\n",
              "\n",
              "  <script>\n",
              "    async function quickchart(key) {\n",
              "      const quickchartButtonEl =\n",
              "        document.querySelector('#' + key + ' button');\n",
              "      quickchartButtonEl.disabled = true;  // To prevent multiple clicks.\n",
              "      quickchartButtonEl.classList.add('colab-df-spinner');\n",
              "      try {\n",
              "        const charts = await google.colab.kernel.invokeFunction(\n",
              "            'suggestCharts', [key], {});\n",
              "      } catch (error) {\n",
              "        console.error('Error during call to suggestCharts:', error);\n",
              "      }\n",
              "      quickchartButtonEl.classList.remove('colab-df-spinner');\n",
              "      quickchartButtonEl.classList.add('colab-df-quickchart-complete');\n",
              "    }\n",
              "    (() => {\n",
              "      let quickchartButtonEl =\n",
              "        document.querySelector('#df-c8792dce-cb1a-409c-8cec-81e0956d026f button');\n",
              "      quickchartButtonEl.style.display =\n",
              "        google.colab.kernel.accessAllowed ? 'block' : 'none';\n",
              "    })();\n",
              "  </script>\n",
              "</div>\n",
              "    </div>\n",
              "  </div>\n"
            ]
          },
          "metadata": {},
          "execution_count": 2473
        }
      ]
    },
    {
      "cell_type": "code",
      "source": [
        "df.info()"
      ],
      "metadata": {
        "colab": {
          "base_uri": "https://localhost:8080/"
        },
        "id": "oKOraqKe91sc",
        "outputId": "a9fde5d6-2711-48a9-8bc3-675d9e5c96a4"
      },
      "execution_count": 2474,
      "outputs": [
        {
          "output_type": "stream",
          "name": "stdout",
          "text": [
            "<class 'pandas.core.frame.DataFrame'>\n",
            "DatetimeIndex: 254 entries, 2023-09-04 to 2022-09-05\n",
            "Data columns (total 13 columns):\n",
            " #   Column         Non-Null Count  Dtype  \n",
            "---  ------         --------------  -----  \n",
            " 0   series         254 non-null    object \n",
            " 1   OPEN           254 non-null    float64\n",
            " 2   HIGH           254 non-null    float64\n",
            " 3   LOW            254 non-null    float64\n",
            " 4   PREV. CLOSE    254 non-null    float64\n",
            " 5   ltp            254 non-null    float64\n",
            " 6   close          254 non-null    float64\n",
            " 7   vwap           254 non-null    float64\n",
            " 8   52W H          254 non-null    float64\n",
            " 9   52W L          254 non-null    float64\n",
            " 10  VOLUME         254 non-null    int64  \n",
            " 11  VALUE          254 non-null    float64\n",
            " 12  No of trades   254 non-null    int64  \n",
            "dtypes: float64(10), int64(2), object(1)\n",
            "memory usage: 27.8+ KB\n"
          ]
        }
      ]
    },
    {
      "cell_type": "code",
      "source": [
        "df['close '].plot()"
      ],
      "metadata": {
        "colab": {
          "base_uri": "https://localhost:8080/",
          "height": 450
        },
        "id": "u7Uk7FY-_HTz",
        "outputId": "18a02370-48ba-486a-b367-892f28aba1c3"
      },
      "execution_count": 2475,
      "outputs": [
        {
          "output_type": "execute_result",
          "data": {
            "text/plain": [
              "<Axes: xlabel='Date '>"
            ]
          },
          "metadata": {},
          "execution_count": 2475
        },
        {
          "output_type": "display_data",
          "data": {
            "text/plain": [
              "<Figure size 640x480 with 1 Axes>"
            ],
            "image/png": "[encoded data removed]"
          },
          "metadata": {}
        }
      ]
    },
    {
      "cell_type": "code",
      "source": [
        "len(df)"
      ],
      "metadata": {
        "colab": {
          "base_uri": "https://localhost:8080/"
        },
        "id": "_z4-c-0MACwW",
        "outputId": "efdc916b-ace3-42dd-8c63-3c9584da343b"
      },
      "execution_count": 2476,
      "outputs": [
        {
          "output_type": "execute_result",
          "data": {
            "text/plain": [
              "254"
            ]
          },
          "metadata": {},
          "execution_count": 2476
        }
      ]
    },
    {
      "cell_type": "code",
      "source": [
        "airtel_close=df['close ']"
      ],
      "metadata": {
        "id": "6rFleGBhAMGo"
      },
      "execution_count": 2477,
      "outputs": []
    },
    {
      "cell_type": "code",
      "source": [
        "airtel_close.reset_index(drop=True,inplace=True)\n",
        "airtel_close.shape"
      ],
      "metadata": {
        "colab": {
          "base_uri": "https://localhost:8080/"
        },
        "id": "Ue6DeTxeA4gJ",
        "outputId": "28064c81-2f0f-479d-95d8-d1bfbe01690f"
      },
      "execution_count": 2478,
      "outputs": [
        {
          "output_type": "execute_result",
          "data": {
            "text/plain": [
              "(254,)"
            ]
          },
          "metadata": {},
          "execution_count": 2478
        }
      ]
    },
    {
      "cell_type": "code",
      "source": [
        "airtel_close=pd.DataFrame(airtel_close)"
      ],
      "metadata": {
        "id": "ftCk1ucKBu3M"
      },
      "execution_count": 2479,
      "outputs": []
    },
    {
      "cell_type": "code",
      "source": [
        "train=airtel_close.iloc[:238]\n",
        "test=airtel_close.iloc[238:]"
      ],
      "metadata": {
        "id": "qleIL9uLB_oO"
      },
      "execution_count": 2480,
      "outputs": []
    },
    {
      "cell_type": "code",
      "source": [
        "from sklearn.preprocessing import MinMaxScaler"
      ],
      "metadata": {
        "id": "6Z_OFlnQDMmy"
      },
      "execution_count": 2481,
      "outputs": []
    },
    {
      "cell_type": "code",
      "source": [
        "scaler=MinMaxScaler()"
      ],
      "metadata": {
        "id": "v67qpVFHFwne"
      },
      "execution_count": 2482,
      "outputs": []
    },
    {
      "cell_type": "code",
      "source": [
        "scaler.fit(train)"
      ],
      "metadata": {
        "colab": {
          "base_uri": "https://localhost:8080/",
          "height": 74
        },
        "id": "I15dmjSyF1VI",
        "outputId": "604d5c36-2b73-4dc2-d82c-9c9a30e0fc7e"
      },
      "execution_count": 2483,
      "outputs": [
        {
          "output_type": "execute_result",
          "data": {
            "text/plain": [
              "MinMaxScaler()"
            ],
            "text/html": [
              "<style>#sk-container-id-61 {color: black;background-color: white;}#sk-container-id-61 pre{padding: 0;}#sk-container-id-61 div.sk-toggleable {background-color: white;}#sk-container-id-61 label.sk-toggleable__label {cursor: pointer;display: block;width: 100%;margin-bottom: 0;padding: 0.3em;box-sizing: border-box;text-align: center;}#sk-container-id-61 label.sk-toggleable__label-arrow:before {content: \"▸\";float: left;margin-right: 0.25em;color: #696969;}#sk-container-id-61 label.sk-toggleable__label-arrow:hover:before {color: black;}#sk-container-id-61 div.sk-estimator:hover label.sk-toggleable__label-arrow:before {color: black;}#sk-container-id-61 div.sk-toggleable__content {max-height: 0;max-width: 0;overflow: hidden;text-align: left;background-color: #f0f8ff;}#sk-container-id-61 div.sk-toggleable__content pre {margin: 0.2em;color: black;border-radius: 0.25em;background-color: #f0f8ff;}#sk-container-id-61 input.sk-toggleable__control:checked~div.sk-toggleable__content {max-height: 200px;max-width: 100%;overflow: auto;}#sk-container-id-61 input.sk-toggleable__control:checked~label.sk-toggleable__label-arrow:before {content: \"▾\";}#sk-container-id-61 div.sk-estimator input.sk-toggleable__control:checked~label.sk-toggleable__label {background-color: #d4ebff;}#sk-container-id-61 div.sk-label input.sk-toggleable__control:checked~label.sk-toggleable__label {background-color: #d4ebff;}#sk-container-id-61 input.sk-hidden--visually {border: 0;clip: rect(1px 1px 1px 1px);clip: rect(1px, 1px, 1px, 1px);height: 1px;margin: -1px;overflow: hidden;padding: 0;position: absolute;width: 1px;}#sk-container-id-61 div.sk-estimator {font-family: monospace;background-color: #f0f8ff;border: 1px dotted black;border-radius: 0.25em;box-sizing: border-box;margin-bottom: 0.5em;}#sk-container-id-61 div.sk-estimator:hover {background-color: #d4ebff;}#sk-container-id-61 div.sk-parallel-item::after {content: \"\";width: 100%;border-bottom: 1px solid gray;flex-grow: 1;}#sk-container-id-61 div.sk-label:hover label.sk-toggleable__label {background-color: #d4ebff;}#sk-container-id-61 div.sk-serial::before {content: \"\";position: absolute;border-left: 1px solid gray;box-sizing: border-box;top: 0;bottom: 0;left: 50%;z-index: 0;}#sk-container-id-61 div.sk-serial {display: flex;flex-direction: column;align-items: center;background-color: white;padding-right: 0.2em;padding-left: 0.2em;position: relative;}#sk-container-id-61 div.sk-item {position: relative;z-index: 1;}#sk-container-id-61 div.sk-parallel {display: flex;align-items: stretch;justify-content: center;background-color: white;position: relative;}#sk-container-id-61 div.sk-item::before, #sk-container-id-61 div.sk-parallel-item::before {content: \"\";position: absolute;border-left: 1px solid gray;box-sizing: border-box;top: 0;bottom: 0;left: 50%;z-index: -1;}#sk-container-id-61 div.sk-parallel-item {display: flex;flex-direction: column;z-index: 1;position: relative;background-color: white;}#sk-container-id-61 div.sk-parallel-item:first-child::after {align-self: flex-end;width: 50%;}#sk-container-id-61 div.sk-parallel-item:last-child::after {align-self: flex-start;width: 50%;}#sk-container-id-61 div.sk-parallel-item:only-child::after {width: 0;}#sk-container-id-61 div.sk-dashed-wrapped {border: 1px dashed gray;margin: 0 0.4em 0.5em 0.4em;box-sizing: border-box;padding-bottom: 0.4em;background-color: white;}#sk-container-id-61 div.sk-label label {font-family: monospace;font-weight: bold;display: inline-block;line-height: 1.2em;}#sk-container-id-61 div.sk-label-container {text-align: center;}#sk-container-id-61 div.sk-container {/* jupyter's `normalize.less` sets `[hidden] { display: none; }` but bootstrap.min.css set `[hidden] { display: none !important; }` so we also need the `!important` here to be able to override the default hidden behavior on the sphinx rendered scikit-learn.org. See: https://github.com/scikit-learn/scikit-learn/issues/21755 */display: inline-block !important;position: relative;}#sk-container-id-61 div.sk-text-repr-fallback {display: none;}</style><div id=\"sk-container-id-61\" class=\"sk-top-container\"><div class=\"sk-text-repr-fallback\"><pre>MinMaxScaler()</pre><b>In a Jupyter environment, please rerun this cell to show the HTML representation or trust the notebook. <br />On GitHub, the HTML representation is unable to render, please try loading this page with nbviewer.org.</b></div><div class=\"sk-container\" hidden><div class=\"sk-item\"><div class=\"sk-estimator sk-toggleable\"><input class=\"sk-toggleable__control sk-hidden--visually\" id=\"sk-estimator-id-61\" type=\"checkbox\" checked><label for=\"sk-estimator-id-61\" class=\"sk-toggleable__label sk-toggleable__label-arrow\">MinMaxScaler</label><div class=\"sk-toggleable__content\"><pre>MinMaxScaler()</pre></div></div></div></div></div>"
            ]
          },
          "metadata": {},
          "execution_count": 2483
        }
      ]
    },
    {
      "cell_type": "code",
      "source": [
        "scaled_train=scaler.transform(train)\n",
        "scaled_test=scaler.transform(test)"
      ],
      "metadata": {
        "id": "ER4WtwKIF3-J"
      },
      "execution_count": 2484,
      "outputs": []
    },
    {
      "cell_type": "code",
      "source": [
        "from tensorflow.keras.preprocessing.sequence import TimeseriesGenerator"
      ],
      "metadata": {
        "id": "rS-jvLqBHveH"
      },
      "execution_count": 2485,
      "outputs": []
    },
    {
      "cell_type": "markdown",
      "source": [
        "CREATING THE MODEL"
      ],
      "metadata": {
        "id": "T5ywCpztM4Fh"
      }
    },
    {
      "cell_type": "code",
      "source": [
        "test.shape"
      ],
      "metadata": {
        "colab": {
          "base_uri": "https://localhost:8080/"
        },
        "id": "8cu_eBgeK_EB",
        "outputId": "c9e655dd-5fed-41e0-8b58-2de09bb3f708"
      },
      "execution_count": 2486,
      "outputs": [
        {
          "output_type": "execute_result",
          "data": {
            "text/plain": [
              "(16, 1)"
            ]
          },
          "metadata": {},
          "execution_count": 2486
        }
      ]
    },
    {
      "cell_type": "code",
      "source": [
        "length=16\n",
        "batch_size=32\n",
        "\n",
        "generator=TimeseriesGenerator(scaled_train,scaled_train,\n",
        "                              length=length,batch_size=batch_size)"
      ],
      "metadata": {
        "id": "9crAcCN3NZZ4"
      },
      "execution_count": 2487,
      "outputs": []
    },
    {
      "cell_type": "code",
      "source": [
        "from tensorflow.keras.models import Sequential\n",
        "from tensorflow.keras.layers import Dense,SimpleRNN,LSTM,Dropout"
      ],
      "metadata": {
        "id": "VPJ7DbZOPgrI"
      },
      "execution_count": 2488,
      "outputs": []
    },
    {
      "cell_type": "code",
      "source": [
        "n_features=1"
      ],
      "metadata": {
        "id": "RtmZhfJiWzEn"
      },
      "execution_count": 2489,
      "outputs": []
    },
    {
      "cell_type": "code",
      "source": [
        "model=Sequential()\n",
        "\n",
        "model.add(SimpleRNN(30,input_shape=(length,n_features)))\n",
        "\n",
        "model.add(Dropout(rate=0.2))\n",
        "\n",
        "model.add(Dense(1))\n",
        "\n",
        "model.compile(optimizer='adam',loss='mse')"
      ],
      "metadata": {
        "id": "4QRJ_mYJaHnO"
      },
      "execution_count": 2490,
      "outputs": []
    },
    {
      "cell_type": "code",
      "source": [
        "model.summary()"
      ],
      "metadata": {
        "colab": {
          "base_uri": "https://localhost:8080/"
        },
        "id": "qH3BEn_yaxwz",
        "outputId": "3af4991b-34c5-42ae-c01d-7ff2486d52c4"
      },
      "execution_count": 2491,
      "outputs": [
        {
          "output_type": "stream",
          "name": "stdout",
          "text": [
            "Model: \"sequential_99\"\n",
            "_________________________________________________________________\n",
            " Layer (type)                Output Shape              Param #   \n",
            "=================================================================\n",
            " simple_rnn_99 (SimpleRNN)   (None, 30)                960       \n",
            "                                                                 \n",
            " dropout_99 (Dropout)        (None, 30)                0         \n",
            "                                                                 \n",
            " dense_99 (Dense)            (None, 1)                 31        \n",
            "                                                                 \n",
            "=================================================================\n",
            "Total params: 991\n",
            "Trainable params: 991\n",
            "Non-trainable params: 0\n",
            "_________________________________________________________________\n"
          ]
        }
      ]
    },
    {
      "cell_type": "code",
      "source": [
        "model.fit_generator(generator,epochs=10,shuffle=False)"
      ],
      "metadata": {
        "colab": {
          "base_uri": "https://localhost:8080/"
        },
        "id": "nQAKOrpGftEq",
        "outputId": "3c04bf86-8881-4570-c38e-c6deab0338ad"
      },
      "execution_count": 2492,
      "outputs": [
        {
          "output_type": "stream",
          "name": "stdout",
          "text": [
            "Epoch 1/10\n"
          ]
        },
        {
          "output_type": "stream",
          "name": "stderr",
          "text": [
            "<ipython-input-2492-b5005ef83afd>:1: UserWarning: `Model.fit_generator` is deprecated and will be removed in a future version. Please use `Model.fit`, which supports generators.\n",
            "  model.fit_generator(generator,epochs=10,shuffle=False)\n"
          ]
        },
        {
          "output_type": "stream",
          "name": "stdout",
          "text": [
            "7/7 [==============================] - 1s 6ms/step - loss: 0.0678\n",
            "Epoch 2/10\n",
            "7/7 [==============================] - 0s 5ms/step - loss: 0.0354\n",
            "Epoch 3/10\n",
            "7/7 [==============================] - 0s 5ms/step - loss: 0.0274\n",
            "Epoch 4/10\n",
            "7/7 [==============================] - 0s 5ms/step - loss: 0.0185\n",
            "Epoch 5/10\n",
            "7/7 [==============================] - 0s 6ms/step - loss: 0.0182\n",
            "Epoch 6/10\n",
            "7/7 [==============================] - 0s 5ms/step - loss: 0.0178\n",
            "Epoch 7/10\n",
            "7/7 [==============================] - 0s 5ms/step - loss: 0.0166\n",
            "Epoch 8/10\n",
            "7/7 [==============================] - 0s 6ms/step - loss: 0.0127\n",
            "Epoch 9/10\n",
            "7/7 [==============================] - 0s 5ms/step - loss: 0.0134\n",
            "Epoch 10/10\n",
            "7/7 [==============================] - 0s 5ms/step - loss: 0.0137\n"
          ]
        },
        {
          "output_type": "execute_result",
          "data": {
            "text/plain": [
              "<keras.callbacks.History at 0x791b9ac1dcc0>"
            ]
          },
          "metadata": {},
          "execution_count": 2492
        }
      ]
    },
    {
      "cell_type": "code",
      "source": [
        "losses=pd.DataFrame(model.history.history)"
      ],
      "metadata": {
        "id": "A-hryefFiDgz"
      },
      "execution_count": 2493,
      "outputs": []
    },
    {
      "cell_type": "code",
      "source": [
        "losses.plot()"
      ],
      "metadata": {
        "colab": {
          "base_uri": "https://localhost:8080/",
          "height": 449
        },
        "id": "_QtzygOrVuJl",
        "outputId": "703f56ec-9215-42e9-8446-e3782178c884"
      },
      "execution_count": 2494,
      "outputs": [
        {
          "output_type": "execute_result",
          "data": {
            "text/plain": [
              "<Axes: >"
            ]
          },
          "metadata": {},
          "execution_count": 2494
        },
        {
          "output_type": "display_data",
          "data": {
            "text/plain": [
              "<Figure size 640x480 with 1 Axes>"
            ],
            "image/png": "[encoded data removed]"
          },
          "metadata": {}
        }
      ]
    },
    {
      "cell_type": "markdown",
      "source": [
        "EVALUATE TEST SET"
      ],
      "metadata": {
        "id": "hEpwzAb_Yt4G"
      }
    },
    {
      "cell_type": "code",
      "source": [
        "first_eval_batch=scaled_train[-length:]"
      ],
      "metadata": {
        "id": "kV3Nfrx1XD6f"
      },
      "execution_count": 2495,
      "outputs": []
    },
    {
      "cell_type": "code",
      "source": [
        "first_eval_batch"
      ],
      "metadata": {
        "colab": {
          "base_uri": "https://localhost:8080/"
        },
        "id": "J3x7zrgpZMG8",
        "outputId": "daeb70e6-d458-4403-ba08-00b0170e7e40"
      },
      "execution_count": 2496,
      "outputs": [
        {
          "output_type": "execute_result",
          "data": {
            "text/plain": [
              "array([[0.16704289],\n",
              "       [0.16672041],\n",
              "       [0.18574653],\n",
              "       [0.22863592],\n",
              "       [0.2592712 ],\n",
              "       [0.33698807],\n",
              "       [0.34182522],\n",
              "       [0.31280232],\n",
              "       [0.44243792],\n",
              "       [0.38568204],\n",
              "       [0.40793292],\n",
              "       [0.38568204],\n",
              "       [0.15833602],\n",
              "       [0.13769752],\n",
              "       [0.13221541],\n",
              "       [0.09642051]])"
            ]
          },
          "metadata": {},
          "execution_count": 2496
        }
      ]
    },
    {
      "cell_type": "code",
      "source": [
        "\n",
        "first_eval_batch=first_eval_batch.reshape((1,length,1))"
      ],
      "metadata": {
        "id": "sJKzUzVZbX2P"
      },
      "execution_count": 2497,
      "outputs": []
    },
    {
      "cell_type": "code",
      "source": [
        "first_eval_batch"
      ],
      "metadata": {
        "colab": {
          "base_uri": "https://localhost:8080/"
        },
        "id": "KrjVORWkcJ9F",
        "outputId": "c279d2ff-b212-48b7-c3d3-014633784735"
      },
      "execution_count": 2498,
      "outputs": [
        {
          "output_type": "execute_result",
          "data": {
            "text/plain": [
              "array([[[0.16704289],\n",
              "        [0.16672041],\n",
              "        [0.18574653],\n",
              "        [0.22863592],\n",
              "        [0.2592712 ],\n",
              "        [0.33698807],\n",
              "        [0.34182522],\n",
              "        [0.31280232],\n",
              "        [0.44243792],\n",
              "        [0.38568204],\n",
              "        [0.40793292],\n",
              "        [0.38568204],\n",
              "        [0.15833602],\n",
              "        [0.13769752],\n",
              "        [0.13221541],\n",
              "        [0.09642051]]])"
            ]
          },
          "metadata": {},
          "execution_count": 2498
        }
      ]
    },
    {
      "cell_type": "code",
      "source": [
        "model.predict(first_eval_batch)"
      ],
      "metadata": {
        "colab": {
          "base_uri": "https://localhost:8080/"
        },
        "id": "QtM-yL2ccNnz",
        "outputId": "c6874269-fab2-4faf-9180-bce986369338"
      },
      "execution_count": 2499,
      "outputs": [
        {
          "output_type": "stream",
          "name": "stdout",
          "text": [
            "1/1 [==============================] - 0s 147ms/step\n"
          ]
        },
        {
          "output_type": "execute_result",
          "data": {
            "text/plain": [
              "array([[0.16243458]], dtype=float32)"
            ]
          },
          "metadata": {},
          "execution_count": 2499
        }
      ]
    },
    {
      "cell_type": "code",
      "source": [
        "scaled_test[0]"
      ],
      "metadata": {
        "colab": {
          "base_uri": "https://localhost:8080/"
        },
        "id": "_Vm-TRm2fY9Z",
        "outputId": "a3bc98d6-9351-431e-e1c1-032b0beed98d"
      },
      "execution_count": 2500,
      "outputs": [
        {
          "output_type": "execute_result",
          "data": {
            "text/plain": [
              "array([0.20154789])"
            ]
          },
          "metadata": {},
          "execution_count": 2500
        }
      ]
    },
    {
      "cell_type": "code",
      "source": [
        "test_predictions=[]\n",
        "\n",
        "first_eval_batch=scaled_train[-length:]\n",
        "current_batch=first_eval_batch.reshape((1,length,n_features))\n",
        "\n",
        "for i in range(len(test)):\n",
        "  current_pred=model.predict(current_batch)[0]\n",
        "\n",
        "  test_predictions.append(current_pred)\n",
        "\n",
        "  current_batch=np.append(current_batch[:,1:,:],[[current_pred]],axis=1)\n",
        "\n",
        "\n",
        "\n"
      ],
      "metadata": {
        "colab": {
          "base_uri": "https://localhost:8080/"
        },
        "id": "U5rrca4lmuFB",
        "outputId": "07934d28-4c3e-44e2-df83-c0850a97b5ac"
      },
      "execution_count": 2501,
      "outputs": [
        {
          "output_type": "stream",
          "name": "stdout",
          "text": [
            "1/1 [==============================] - 0s 23ms/step\n",
            "1/1 [==============================] - 0s 22ms/step\n",
            "1/1 [==============================] - 0s 20ms/step\n",
            "1/1 [==============================] - 0s 21ms/step\n",
            "1/1 [==============================] - 0s 24ms/step\n",
            "1/1 [==============================] - 0s 22ms/step\n",
            "1/1 [==============================] - 0s 20ms/step\n",
            "1/1 [==============================] - 0s 24ms/step\n",
            "1/1 [==============================] - 0s 24ms/step\n",
            "1/1 [==============================] - 0s 22ms/step\n",
            "1/1 [==============================] - 0s 22ms/step\n",
            "1/1 [==============================] - 0s 21ms/step\n",
            "1/1 [==============================] - 0s 22ms/step\n",
            "1/1 [==============================] - 0s 21ms/step\n",
            "1/1 [==============================] - 0s 23ms/step\n",
            "1/1 [==============================] - 0s 21ms/step\n"
          ]
        }
      ]
    },
    {
      "cell_type": "code",
      "source": [
        "test_predictions"
      ],
      "metadata": {
        "colab": {
          "base_uri": "https://localhost:8080/"
        },
        "id": "5_23u4-wpEo6",
        "outputId": "dddf40f1-62b7-4193-c9ea-6349c473c67a"
      },
      "execution_count": 2502,
      "outputs": [
        {
          "output_type": "execute_result",
          "data": {
            "text/plain": [
              "[array([0.16243458], dtype=float32),\n",
              " array([0.16894501], dtype=float32),\n",
              " array([0.16067547], dtype=float32),\n",
              " array([0.22552402], dtype=float32),\n",
              " array([0.11234992], dtype=float32),\n",
              " array([0.12816757], dtype=float32),\n",
              " array([0.18439817], dtype=float32),\n",
              " array([0.08164249], dtype=float32),\n",
              " array([0.15732104], dtype=float32),\n",
              " array([0.120737], dtype=float32),\n",
              " array([0.02958325], dtype=float32),\n",
              " array([0.1260731], dtype=float32),\n",
              " array([0.09220286], dtype=float32),\n",
              " array([0.053703], dtype=float32),\n",
              " array([0.15008166], dtype=float32),\n",
              " array([0.08519498], dtype=float32)]"
            ]
          },
          "metadata": {},
          "execution_count": 2502
        }
      ]
    },
    {
      "cell_type": "code",
      "source": [
        "true_predictions=scaler.inverse_transform(test_predictions)"
      ],
      "metadata": {
        "id": "yK-SrCoSvZ8l"
      },
      "execution_count": 2503,
      "outputs": []
    },
    {
      "cell_type": "code",
      "source": [
        "true_predictions"
      ],
      "metadata": {
        "colab": {
          "base_uri": "https://localhost:8080/"
        },
        "id": "_i7SmpVWwdne",
        "outputId": "ac984fce-b6dc-4b08-c6e0-ec29b3da8948"
      },
      "execution_count": 2504,
      "outputs": [
        {
          "output_type": "execute_result",
          "data": {
            "text/plain": [
              "array([[765.28548131],\n",
              "       [766.29492449],\n",
              "       [765.01273101],\n",
              "       [775.06749979],\n",
              "       [757.51985509],\n",
              "       [759.97238167],\n",
              "       [768.69093692],\n",
              "       [752.75866863],\n",
              "       [764.49262661],\n",
              "       [758.82027205],\n",
              "       [744.68688366],\n",
              "       [759.64763526],\n",
              "       [754.396053  ],\n",
              "       [748.42665056],\n",
              "       [763.37016205],\n",
              "       [753.30948205]])"
            ]
          },
          "metadata": {},
          "execution_count": 2504
        }
      ]
    },
    {
      "cell_type": "code",
      "source": [
        "test['predictions']=true_predictions"
      ],
      "metadata": {
        "colab": {
          "base_uri": "https://localhost:8080/"
        },
        "id": "Fm2qmOg-wfay",
        "outputId": "74684449-5b5e-4da8-c354-08de406b076d"
      },
      "execution_count": 2505,
      "outputs": [
        {
          "output_type": "stream",
          "name": "stderr",
          "text": [
            "<ipython-input-2505-5cc117e29ae0>:1: SettingWithCopyWarning: \n",
            "A value is trying to be set on a copy of a slice from a DataFrame.\n",
            "Try using .loc[row_indexer,col_indexer] = value instead\n",
            "\n",
            "See the caveats in the documentation: https://pandas.pydata.org/pandas-docs/stable/user_guide/indexing.html#returning-a-view-versus-a-copy\n",
            "  test['predictions']=true_predictions\n"
          ]
        }
      ]
    },
    {
      "cell_type": "code",
      "source": [
        "test"
      ],
      "metadata": {
        "colab": {
          "base_uri": "https://localhost:8080/",
          "height": 551
        },
        "id": "_8t0MItTx1qk",
        "outputId": "d334b1b7-de39-4592-bb44-ac0b42d9224c"
      },
      "execution_count": 2506,
      "outputs": [
        {
          "output_type": "execute_result",
          "data": {
            "text/plain": [
              "     close   predictions\n",
              "238  771.35   765.285481\n",
              "239  772.50   766.294924\n",
              "240  784.10   765.012731\n",
              "241  780.20   775.067500\n",
              "242  792.15   757.519855\n",
              "243  782.75   759.972382\n",
              "244  779.65   768.690937\n",
              "245  785.10   752.758669\n",
              "246  783.35   764.492627\n",
              "247  784.25   758.820272\n",
              "248  769.15   744.686884\n",
              "249  765.75   759.647635\n",
              "250  769.80   754.396053\n",
              "251  753.10   748.426651\n",
              "252  761.25   763.370162\n",
              "253  740.40   753.309482"
            ],
            "text/html": [
              "\n",
              "  <div id=\"df-cfcfd12c-d212-495b-800e-dc9ee5be29c6\" class=\"colab-df-container\">\n",
              "    <div>\n",
              "<style scoped>\n",
              "    .dataframe tbody tr th:only-of-type {\n",
              "        vertical-align: middle;\n",
              "    }\n",
              "\n",
              "    .dataframe tbody tr th {\n",
              "        vertical-align: top;\n",
              "    }\n",
              "\n",
              "    .dataframe thead th {\n",
              "        text-align: right;\n",
              "    }\n",
              "</style>\n",
              "<table border=\"1\" class=\"dataframe\">\n",
              "  <thead>\n",
              "    <tr style=\"text-align: right;\">\n",
              "      <th></th>\n",
              "      <th>close</th>\n",
              "      <th>predictions</th>\n",
              "    </tr>\n",
              "  </thead>\n",
              "  <tbody>\n",
              "    <tr>\n",
              "      <th>238</th>\n",
              "      <td>771.35</td>\n",
              "      <td>765.285481</td>\n",
              "    </tr>\n",
              "    <tr>\n",
              "      <th>239</th>\n",
              "      <td>772.50</td>\n",
              "      <td>766.294924</td>\n",
              "    </tr>\n",
              "    <tr>\n",
              "      <th>240</th>\n",
              "      <td>784.10</td>\n",
              "      <td>765.012731</td>\n",
              "    </tr>\n",
              "    <tr>\n",
              "      <th>241</th>\n",
              "      <td>780.20</td>\n",
              "      <td>775.067500</td>\n",
              "    </tr>\n",
              "    <tr>\n",
              "      <th>242</th>\n",
              "      <td>792.15</td>\n",
              "      <td>757.519855</td>\n",
              "    </tr>\n",
              "    <tr>\n",
              "      <th>243</th>\n",
              "      <td>782.75</td>\n",
              "      <td>759.972382</td>\n",
              "    </tr>\n",
              "    <tr>\n",
              "      <th>244</th>\n",
              "      <td>779.65</td>\n",
              "      <td>768.690937</td>\n",
              "    </tr>\n",
              "    <tr>\n",
              "      <th>245</th>\n",
              "      <td>785.10</td>\n",
              "      <td>752.758669</td>\n",
              "    </tr>\n",
              "    <tr>\n",
              "      <th>246</th>\n",
              "      <td>783.35</td>\n",
              "      <td>764.492627</td>\n",
              "    </tr>\n",
              "    <tr>\n",
              "      <th>247</th>\n",
              "      <td>784.25</td>\n",
              "      <td>758.820272</td>\n",
              "    </tr>\n",
              "    <tr>\n",
              "      <th>248</th>\n",
              "      <td>769.15</td>\n",
              "      <td>744.686884</td>\n",
              "    </tr>\n",
              "    <tr>\n",
              "      <th>249</th>\n",
              "      <td>765.75</td>\n",
              "      <td>759.647635</td>\n",
              "    </tr>\n",
              "    <tr>\n",
              "      <th>250</th>\n",
              "      <td>769.80</td>\n",
              "      <td>754.396053</td>\n",
              "    </tr>\n",
              "    <tr>\n",
              "      <th>251</th>\n",
              "      <td>753.10</td>\n",
              "      <td>748.426651</td>\n",
              "    </tr>\n",
              "    <tr>\n",
              "      <th>252</th>\n",
              "      <td>761.25</td>\n",
              "      <td>763.370162</td>\n",
              "    </tr>\n",
              "    <tr>\n",
              "      <th>253</th>\n",
              "      <td>740.40</td>\n",
              "      <td>753.309482</td>\n",
              "    </tr>\n",
              "  </tbody>\n",
              "</table>\n",
              "</div>\n",
              "    <div class=\"colab-df-buttons\">\n",
              "\n",
              "  <div class=\"colab-df-container\">\n",
              "    <button class=\"colab-df-convert\" onclick=\"convertToInteractive('df-cfcfd12c-d212-495b-800e-dc9ee5be29c6')\"\n",
              "            title=\"Convert this dataframe to an interactive table.\"\n",
              "            style=\"display:none;\">\n",
              "\n",
              "  <svg xmlns=\"http://www.w3.org/2000/svg\" height=\"24px\" viewBox=\"0 -960 960 960\">\n",
              "    <path d=\"M120-120v-720h720v720H120Zm60-500h600v-160H180v160Zm220 220h160v-160H400v160Zm0 220h160v-160H400v160ZM180-400h160v-160H180v160Zm440 0h160v-160H620v160ZM180-180h160v-160H180v160Zm440 0h160v-160H620v160Z\"/>\n",
              "  </svg>\n",
              "    </button>\n",
              "\n",
              "  <style>\n",
              "    .colab-df-container {\n",
              "      display:flex;\n",
              "      gap: 12px;\n",
              "    }\n",
              "\n",
              "    .colab-df-convert {\n",
              "      background-color: #E8F0FE;\n",
              "      border: none;\n",
              "      border-radius: 50%;\n",
              "      cursor: pointer;\n",
              "      display: none;\n",
              "      fill: #1967D2;\n",
              "      height: 32px;\n",
              "      padding: 0 0 0 0;\n",
              "      width: 32px;\n",
              "    }\n",
              "\n",
              "    .colab-df-convert:hover {\n",
              "      background-color: #E2EBFA;\n",
              "      box-shadow: 0px 1px 2px rgba(60, 64, 67, 0.3), 0px 1px 3px 1px rgba(60, 64, 67, 0.15);\n",
              "      fill: #174EA6;\n",
              "    }\n",
              "\n",
              "    .colab-df-buttons div {\n",
              "      margin-bottom: 4px;\n",
              "    }\n",
              "\n",
              "    [theme=dark] .colab-df-convert {\n",
              "      background-color: #3B4455;\n",
              "      fill: #D2E3FC;\n",
              "    }\n",
              "\n",
              "    [theme=dark] .colab-df-convert:hover {\n",
              "      background-color: #434B5C;\n",
              "      box-shadow: 0px 1px 3px 1px rgba(0, 0, 0, 0.15);\n",
              "      filter: drop-shadow(0px 1px 2px rgba(0, 0, 0, 0.3));\n",
              "      fill: #FFFFFF;\n",
              "    }\n",
              "  </style>\n",
              "\n",
              "    <script>\n",
              "      const buttonEl =\n",
              "        document.querySelector('#df-cfcfd12c-d212-495b-800e-dc9ee5be29c6 button.colab-df-convert');\n",
              "      buttonEl.style.display =\n",
              "        google.colab.kernel.accessAllowed ? 'block' : 'none';\n",
              "\n",
              "      async function convertToInteractive(key) {\n",
              "        const element = document.querySelector('#df-cfcfd12c-d212-495b-800e-dc9ee5be29c6');\n",
              "        const dataTable =\n",
              "          await google.colab.kernel.invokeFunction('convertToInteractive',\n",
              "                                                    [key], {});\n",
              "        if (!dataTable) return;\n",
              "\n",
              "        const docLinkHtml = 'Like what you see? Visit the ' +\n",
              "          '<a target=\"_blank\" href=https://colab.research.google.com/notebooks/data_table.ipynb>data table notebook</a>'\n",
              "          + ' to learn more about interactive tables.';\n",
              "        element.innerHTML = '';\n",
              "        dataTable['output_type'] = 'display_data';\n",
              "        await google.colab.output.renderOutput(dataTable, element);\n",
              "        const docLink = document.createElement('div');\n",
              "        docLink.innerHTML = docLinkHtml;\n",
              "        element.appendChild(docLink);\n",
              "      }\n",
              "    </script>\n",
              "  </div>\n",
              "\n",
              "\n",
              "<div id=\"df-72bff0c9-8da6-4822-b0cd-77ae848ed1be\">\n",
              "  <button class=\"colab-df-quickchart\" onclick=\"quickchart('df-72bff0c9-8da6-4822-b0cd-77ae848ed1be')\"\n",
              "            title=\"Suggest charts.\"\n",
              "            style=\"display:none;\">\n",
              "\n",
              "<svg xmlns=\"http://www.w3.org/2000/svg\" height=\"24px\"viewBox=\"0 0 24 24\"\n",
              "     width=\"24px\">\n",
              "    <g>\n",
              "        <path d=\"M19 3H5c-1.1 0-2 .9-2 2v14c0 1.1.9 2 2 2h14c1.1 0 2-.9 2-2V5c0-1.1-.9-2-2-2zM9 17H7v-7h2v7zm4 0h-2V7h2v10zm4 0h-2v-4h2v4z\"/>\n",
              "    </g>\n",
              "</svg>\n",
              "  </button>\n",
              "\n",
              "<style>\n",
              "  .colab-df-quickchart {\n",
              "      --bg-color: #E8F0FE;\n",
              "      --fill-color: #1967D2;\n",
              "      --hover-bg-color: #E2EBFA;\n",
              "      --hover-fill-color: #174EA6;\n",
              "      --disabled-fill-color: #AAA;\n",
              "      --disabled-bg-color: #DDD;\n",
              "  }\n",
              "\n",
              "  [theme=dark] .colab-df-quickchart {\n",
              "      --bg-color: #3B4455;\n",
              "      --fill-color: #D2E3FC;\n",
              "      --hover-bg-color: #434B5C;\n",
              "      --hover-fill-color: #FFFFFF;\n",
              "      --disabled-bg-color: #3B4455;\n",
              "      --disabled-fill-color: #666;\n",
              "  }\n",
              "\n",
              "  .colab-df-quickchart {\n",
              "    background-color: var(--bg-color);\n",
              "    border: none;\n",
              "    border-radius: 50%;\n",
              "    cursor: pointer;\n",
              "    display: none;\n",
              "    fill: var(--fill-color);\n",
              "    height: 32px;\n",
              "    padding: 0;\n",
              "    width: 32px;\n",
              "  }\n",
              "\n",
              "  .colab-df-quickchart:hover {\n",
              "    background-color: var(--hover-bg-color);\n",
              "    box-shadow: 0 1px 2px rgba(60, 64, 67, 0.3), 0 1px 3px 1px rgba(60, 64, 67, 0.15);\n",
              "    fill: var(--button-hover-fill-color);\n",
              "  }\n",
              "\n",
              "  .colab-df-quickchart-complete:disabled,\n",
              "  .colab-df-quickchart-complete:disabled:hover {\n",
              "    background-color: var(--disabled-bg-color);\n",
              "    fill: var(--disabled-fill-color);\n",
              "    box-shadow: none;\n",
              "  }\n",
              "\n",
              "  .colab-df-spinner {\n",
              "    border: 2px solid var(--fill-color);\n",
              "    border-color: transparent;\n",
              "    border-bottom-color: var(--fill-color);\n",
              "    animation:\n",
              "      spin 1s steps(1) infinite;\n",
              "  }\n",
              "\n",
              "  @keyframes spin {\n",
              "    0% {\n",
              "      border-color: transparent;\n",
              "      border-bottom-color: var(--fill-color);\n",
              "      border-left-color: var(--fill-color);\n",
              "    }\n",
              "    20% {\n",
              "      border-color: transparent;\n",
              "      border-left-color: var(--fill-color);\n",
              "      border-top-color: var(--fill-color);\n",
              "    }\n",
              "    30% {\n",
              "      border-color: transparent;\n",
              "      border-left-color: var(--fill-color);\n",
              "      border-top-color: var(--fill-color);\n",
              "      border-right-color: var(--fill-color);\n",
              "    }\n",
              "    40% {\n",
              "      border-color: transparent;\n",
              "      border-right-color: var(--fill-color);\n",
              "      border-top-color: var(--fill-color);\n",
              "    }\n",
              "    60% {\n",
              "      border-color: transparent;\n",
              "      border-right-color: var(--fill-color);\n",
              "    }\n",
              "    80% {\n",
              "      border-color: transparent;\n",
              "      border-right-color: var(--fill-color);\n",
              "      border-bottom-color: var(--fill-color);\n",
              "    }\n",
              "    90% {\n",
              "      border-color: transparent;\n",
              "      border-bottom-color: var(--fill-color);\n",
              "    }\n",
              "  }\n",
              "</style>\n",
              "\n",
              "  <script>\n",
              "    async function quickchart(key) {\n",
              "      const quickchartButtonEl =\n",
              "        document.querySelector('#' + key + ' button');\n",
              "      quickchartButtonEl.disabled = true;  // To prevent multiple clicks.\n",
              "      quickchartButtonEl.classList.add('colab-df-spinner');\n",
              "      try {\n",
              "        const charts = await google.colab.kernel.invokeFunction(\n",
              "            'suggestCharts', [key], {});\n",
              "      } catch (error) {\n",
              "        console.error('Error during call to suggestCharts:', error);\n",
              "      }\n",
              "      quickchartButtonEl.classList.remove('colab-df-spinner');\n",
              "      quickchartButtonEl.classList.add('colab-df-quickchart-complete');\n",
              "    }\n",
              "    (() => {\n",
              "      let quickchartButtonEl =\n",
              "        document.querySelector('#df-72bff0c9-8da6-4822-b0cd-77ae848ed1be button');\n",
              "      quickchartButtonEl.style.display =\n",
              "        google.colab.kernel.accessAllowed ? 'block' : 'none';\n",
              "    })();\n",
              "  </script>\n",
              "</div>\n",
              "    </div>\n",
              "  </div>\n"
            ]
          },
          "metadata": {},
          "execution_count": 2506
        }
      ]
    },
    {
      "cell_type": "code",
      "source": [
        "test.plot(figsize=(12,8))\n",
        "airtel_close.plot()"
      ],
      "metadata": {
        "colab": {
          "base_uri": "https://localhost:8080/",
          "height": 1000
        },
        "id": "38rDNfnwx4DA",
        "outputId": "a2dee9ac-20ad-4f7e-ec6e-742f2e3fb380"
      },
      "execution_count": 2507,
      "outputs": [
        {
          "output_type": "execute_result",
          "data": {
            "text/plain": [
              "<Axes: >"
            ]
          },
          "metadata": {},
          "execution_count": 2507
        },
        {
          "output_type": "display_data",
          "data": {
            "text/plain": [
              "<Figure size 1200x800 with 1 Axes>"
            ],
            "image/png": "[encoded data removed]"
          },
          "metadata": {}
        },
        {
          "output_type": "display_data",
          "data": {
            "text/plain": [
              "<Figure size 640x480 with 1 Axes>"
            ],
            "image/png": "[encoded data removed]"
          },
          "metadata": {}
        }
      ]
    },
    {
      "cell_type": "code",
      "source": [],
      "metadata": {
        "id": "6qXVduYPz84B"
      },
      "execution_count": 2507,
      "outputs": []
    },
    {
      "cell_type": "markdown",
      "source": [
        "LET US CREATE FULL MODEL"
      ],
      "metadata": {
        "id": "rsNx5hHS2ME2"
      }
    },
    {
      "cell_type": "code",
      "source": [
        "full_scaler=MinMaxScaler()\n",
        "\n",
        "scaled_full_data=full_scaler.fit_transform(airtel_close)"
      ],
      "metadata": {
        "id": "9yrP9_2F2ULD"
      },
      "execution_count": 2508,
      "outputs": []
    },
    {
      "cell_type": "code",
      "source": [
        "generator=TimeseriesGenerator(scaled_full_data,scaled_full_data,\n",
        "                              length=length,batch_size=32)"
      ],
      "metadata": {
        "id": "LVE3pp4J294c"
      },
      "execution_count": 2509,
      "outputs": []
    },
    {
      "cell_type": "code",
      "source": [
        "model=Sequential()\n",
        "\n",
        "model.add(SimpleRNN(30,input_shape=(length,n_features)))\n",
        "\n",
        "model.add(Dropout(rate=0.2))\n",
        "\n",
        "model.add(Dense(1))\n",
        "\n",
        "model.compile(optimizer='adam',loss='mse')"
      ],
      "metadata": {
        "id": "4B_vr-Ky5qs9"
      },
      "execution_count": 2510,
      "outputs": []
    },
    {
      "cell_type": "code",
      "source": [
        "model.summary()"
      ],
      "metadata": {
        "colab": {
          "base_uri": "https://localhost:8080/"
        },
        "id": "cxH3WfrI6Gu0",
        "outputId": "cc273aa3-d145-42b0-a6c4-0e52b76b9386"
      },
      "execution_count": 2511,
      "outputs": [
        {
          "output_type": "stream",
          "name": "stdout",
          "text": [
            "Model: \"sequential_100\"\n",
            "_________________________________________________________________\n",
            " Layer (type)                Output Shape              Param #   \n",
            "=================================================================\n",
            " simple_rnn_100 (SimpleRNN)  (None, 30)                960       \n",
            "                                                                 \n",
            " dropout_100 (Dropout)       (None, 30)                0         \n",
            "                                                                 \n",
            " dense_100 (Dense)           (None, 1)                 31        \n",
            "                                                                 \n",
            "=================================================================\n",
            "Total params: 991\n",
            "Trainable params: 991\n",
            "Non-trainable params: 0\n",
            "_________________________________________________________________\n"
          ]
        }
      ]
    },
    {
      "cell_type": "code",
      "source": [
        "model.fit_generator(generator,epochs=10,shuffle=False)"
      ],
      "metadata": {
        "colab": {
          "base_uri": "https://localhost:8080/"
        },
        "id": "IUcp4TRr6JWN",
        "outputId": "13ac6445-1dfb-4c19-e2cd-53396ecca330"
      },
      "execution_count": 2512,
      "outputs": [
        {
          "output_type": "stream",
          "name": "stdout",
          "text": [
            "Epoch 1/10\n"
          ]
        },
        {
          "output_type": "stream",
          "name": "stderr",
          "text": [
            "<ipython-input-2512-b5005ef83afd>:1: UserWarning: `Model.fit_generator` is deprecated and will be removed in a future version. Please use `Model.fit`, which supports generators.\n",
            "  model.fit_generator(generator,epochs=10,shuffle=False)\n"
          ]
        },
        {
          "output_type": "stream",
          "name": "stdout",
          "text": [
            "8/8 [==============================] - 1s 4ms/step - loss: 0.0777\n",
            "Epoch 2/10\n",
            "8/8 [==============================] - 0s 6ms/step - loss: 0.0276\n",
            "Epoch 3/10\n",
            "8/8 [==============================] - 0s 4ms/step - loss: 0.0225\n",
            "Epoch 4/10\n",
            "8/8 [==============================] - 0s 5ms/step - loss: 0.0188\n",
            "Epoch 5/10\n",
            "8/8 [==============================] - 0s 5ms/step - loss: 0.0211\n",
            "Epoch 6/10\n",
            "8/8 [==============================] - 0s 6ms/step - loss: 0.0195\n",
            "Epoch 7/10\n",
            "8/8 [==============================] - 0s 5ms/step - loss: 0.0177\n",
            "Epoch 8/10\n",
            "8/8 [==============================] - 0s 6ms/step - loss: 0.0146\n",
            "Epoch 9/10\n",
            "8/8 [==============================] - 0s 5ms/step - loss: 0.0141\n",
            "Epoch 10/10\n",
            "8/8 [==============================] - 0s 5ms/step - loss: 0.0131\n"
          ]
        },
        {
          "output_type": "execute_result",
          "data": {
            "text/plain": [
              "<keras.callbacks.History at 0x791b96e97f70>"
            ]
          },
          "metadata": {},
          "execution_count": 2512
        }
      ]
    },
    {
      "cell_type": "code",
      "source": [
        "full_model_losses=pd.DataFrame(model.history.history)"
      ],
      "metadata": {
        "id": "mO2DZbAy9wEC"
      },
      "execution_count": 2513,
      "outputs": []
    },
    {
      "cell_type": "code",
      "source": [
        "full_model_losses.plot()"
      ],
      "metadata": {
        "colab": {
          "base_uri": "https://localhost:8080/",
          "height": 448
        },
        "id": "vLG_Qu1p-A1b",
        "outputId": "89a90405-fdb1-4832-b965-6ebb82a4bf0c"
      },
      "execution_count": 2469,
      "outputs": [
        {
          "output_type": "execute_result",
          "data": {
            "text/plain": [
              "<Axes: >"
            ]
          },
          "metadata": {},
          "execution_count": 2469
        },
        {
          "output_type": "display_data",
          "data": {
            "text/plain": [
              "<Figure size 640x480 with 1 Axes>"
            ],
            "image/png": "[encoded data removed]"
          },
          "metadata": {}
        }
      ]
    },
    {
      "cell_type": "code",
      "source": [
        "forecast=[]\n",
        "\n",
        "first_eval_batch=scaled_train[-length:]\n",
        "current_batch=first_eval_batch.reshape((1,length,n_features))\n",
        "\n",
        "for i in range(20):\n",
        "  current_pred=model.predict(current_batch)[0]\n",
        "\n",
        "  forecast.append(current_pred)\n",
        "\n",
        "  current_batch=np.append(current_batch[:,1:,:],[[current_pred]],axis=1)\n"
      ],
      "metadata": {
        "colab": {
          "base_uri": "https://localhost:8080/"
        },
        "id": "DmAiEluZ-Dx_",
        "outputId": "dd3b2964-42a0-4c5c-9bdd-876a029aa058"
      },
      "execution_count": 2515,
      "outputs": [
        {
          "output_type": "stream",
          "name": "stdout",
          "text": [
            "1/1 [==============================] - 0s 147ms/step\n",
            "1/1 [==============================] - 0s 25ms/step\n",
            "1/1 [==============================] - 0s 23ms/step\n",
            "1/1 [==============================] - 0s 21ms/step\n",
            "1/1 [==============================] - 0s 21ms/step\n",
            "1/1 [==============================] - 0s 22ms/step\n",
            "1/1 [==============================] - 0s 20ms/step\n",
            "1/1 [==============================] - 0s 23ms/step\n",
            "1/1 [==============================] - 0s 23ms/step\n",
            "1/1 [==============================] - 0s 22ms/step\n",
            "1/1 [==============================] - 0s 20ms/step\n",
            "1/1 [==============================] - 0s 23ms/step\n",
            "1/1 [==============================] - 0s 24ms/step\n",
            "1/1 [==============================] - 0s 21ms/step\n",
            "1/1 [==============================] - 0s 20ms/step\n",
            "1/1 [==============================] - 0s 23ms/step\n",
            "1/1 [==============================] - 0s 21ms/step\n",
            "1/1 [==============================] - 0s 23ms/step\n",
            "1/1 [==============================] - 0s 30ms/step\n",
            "1/1 [==============================] - 0s 21ms/step\n"
          ]
        }
      ]
    },
    {
      "cell_type": "code",
      "source": [
        "forecast=scaler.inverse_transform(forecast)"
      ],
      "metadata": {
        "id": "dpCYIQ2J-QtL"
      },
      "execution_count": 2516,
      "outputs": []
    },
    {
      "cell_type": "code",
      "source": [
        "forecast"
      ],
      "metadata": {
        "colab": {
          "base_uri": "https://localhost:8080/"
        },
        "id": "tpi0Z1LfBHWn",
        "outputId": "d0758021-d4bd-44f9-817e-3ebc2619cdfc"
      },
      "execution_count": 2517,
      "outputs": [
        {
          "output_type": "execute_result",
          "data": {
            "text/plain": [
              "array([[759.19018034],\n",
              "       [758.9280476 ],\n",
              "       [759.02226096],\n",
              "       [766.88626161],\n",
              "       [764.68589598],\n",
              "       [768.42055019],\n",
              "       [774.35650345],\n",
              "       [767.82007996],\n",
              "       [774.07018403],\n",
              "       [772.96474499],\n",
              "       [762.26801075],\n",
              "       [770.70988567],\n",
              "       [768.11950181],\n",
              "       [764.62780727],\n",
              "       [769.38847273],\n",
              "       [767.28185028],\n",
              "       [767.10105952],\n",
              "       [771.99495332],\n",
              "       [767.87343923],\n",
              "       [772.37643222]])"
            ]
          },
          "metadata": {},
          "execution_count": 2517
        }
      ]
    },
    {
      "cell_type": "code",
      "source": [
        "forecast.flatten()"
      ],
      "metadata": {
        "colab": {
          "base_uri": "https://localhost:8080/"
        },
        "id": "KY8DovHcBJGw",
        "outputId": "2138fb3c-2e78-474a-f4fe-410304605657"
      },
      "execution_count": 2518,
      "outputs": [
        {
          "output_type": "execute_result",
          "data": {
            "text/plain": [
              "array([759.19018034, 758.9280476 , 759.02226096, 766.88626161,\n",
              "       764.68589598, 768.42055019, 774.35650345, 767.82007996,\n",
              "       774.07018403, 772.96474499, 762.26801075, 770.70988567,\n",
              "       768.11950181, 764.62780727, 769.38847273, 767.28185028,\n",
              "       767.10105952, 771.99495332, 767.87343923, 772.37643222])"
            ]
          },
          "metadata": {},
          "execution_count": 2518
        }
      ]
    },
    {
      "cell_type": "code",
      "source": [
        "df_array=np.array(airtel_close)\n",
        "df_array"
      ],
      "metadata": {
        "colab": {
          "base_uri": "https://localhost:8080/"
        },
        "id": "kteTe7N1BvLF",
        "outputId": "52656f06-cd74-4b9d-cdd4-607cd092d68f"
      },
      "execution_count": 2519,
      "outputs": [
        {
          "output_type": "execute_result",
          "data": {
            "text/plain": [
              "array([[865.3 ],\n",
              "       [865.95],\n",
              "       [856.4 ],\n",
              "       [857.75],\n",
              "       [855.2 ],\n",
              "       [870.35],\n",
              "       [873.5 ],\n",
              "       [869.45],\n",
              "       [868.15],\n",
              "       [877.65],\n",
              "       [871.95],\n",
              "       [856.25],\n",
              "       [856.7 ],\n",
              "       [856.95],\n",
              "       [867.05],\n",
              "       [870.55],\n",
              "       [874.8 ],\n",
              "       [883.7 ],\n",
              "       [885.4 ],\n",
              "       [891.4 ],\n",
              "       [889.65],\n",
              "       [871.7 ],\n",
              "       [878.1 ],\n",
              "       [891.65],\n",
              "       [889.9 ],\n",
              "       [895.1 ],\n",
              "       [895.15],\n",
              "       [889.4 ],\n",
              "       [883.65],\n",
              "       [888.15],\n",
              "       [886.  ],\n",
              "       [884.85],\n",
              "       [870.75],\n",
              "       [875.45],\n",
              "       [878.1 ],\n",
              "       [886.5 ],\n",
              "       [885.05],\n",
              "       [889.95],\n",
              "       [891.9 ],\n",
              "       [885.4 ],\n",
              "       [870.45],\n",
              "       [869.65],\n",
              "       [866.65],\n",
              "       [865.15],\n",
              "       [879.15],\n",
              "       [878.75],\n",
              "       [872.2 ],\n",
              "       [864.9 ],\n",
              "       [851.95],\n",
              "       [854.8 ],\n",
              "       [842.8 ],\n",
              "       [839.  ],\n",
              "       [831.2 ],\n",
              "       [828.15],\n",
              "       [837.8 ],\n",
              "       [829.7 ],\n",
              "       [827.95],\n",
              "       [834.35],\n",
              "       [836.35],\n",
              "       [833.5 ],\n",
              "       [836.  ],\n",
              "       [844.25],\n",
              "       [829.45],\n",
              "       [834.5 ],\n",
              "       [836.5 ],\n",
              "       [827.95],\n",
              "       [849.9 ],\n",
              "       [818.45],\n",
              "       [821.25],\n",
              "       [817.95],\n",
              "       [822.7 ],\n",
              "       [801.4 ],\n",
              "       [799.95],\n",
              "       [801.85],\n",
              "       [805.75],\n",
              "       [799.35],\n",
              "       [792.25],\n",
              "       [787.35],\n",
              "       [797.05],\n",
              "       [791.95],\n",
              "       [788.6 ],\n",
              "       [796.05],\n",
              "       [793.6 ],\n",
              "       [793.75],\n",
              "       [787.3 ],\n",
              "       [789.1 ],\n",
              "       [779.3 ],\n",
              "       [790.2 ],\n",
              "       [799.3 ],\n",
              "       [786.5 ],\n",
              "       [773.45],\n",
              "       [772.6 ],\n",
              "       [760.25],\n",
              "       [765.2 ],\n",
              "       [772.3 ],\n",
              "       [764.65],\n",
              "       [759.75],\n",
              "       [759.65],\n",
              "       [767.05],\n",
              "       [771.1 ],\n",
              "       [774.15],\n",
              "       [769.75],\n",
              "       [765.95],\n",
              "       [763.45],\n",
              "       [760.55],\n",
              "       [749.  ],\n",
              "       [743.6 ],\n",
              "       [748.45],\n",
              "       [761.75],\n",
              "       [762.45],\n",
              "       [763.55],\n",
              "       [756.7 ],\n",
              "       [756.95],\n",
              "       [754.8 ],\n",
              "       [757.25],\n",
              "       [745.95],\n",
              "       [756.65],\n",
              "       [771.8 ],\n",
              "       [765.3 ],\n",
              "       [773.75],\n",
              "       [773.4 ],\n",
              "       [766.55],\n",
              "       [766.6 ],\n",
              "       [764.4 ],\n",
              "       [740.1 ],\n",
              "       [750.2 ],\n",
              "       [742.25],\n",
              "       [752.9 ],\n",
              "       [757.1 ],\n",
              "       [762.95],\n",
              "       [772.15],\n",
              "       [779.05],\n",
              "       [779.15],\n",
              "       [776.8 ],\n",
              "       [784.45],\n",
              "       [785.4 ],\n",
              "       [775.2 ],\n",
              "       [768.6 ],\n",
              "       [771.95],\n",
              "       [766.65],\n",
              "       [775.1 ],\n",
              "       [785.9 ],\n",
              "       [789.25],\n",
              "       [792.9 ],\n",
              "       [777.75],\n",
              "       [769.1 ],\n",
              "       [770.3 ],\n",
              "       [770.2 ],\n",
              "       [774.5 ],\n",
              "       [776.5 ],\n",
              "       [775.65],\n",
              "       [772.7 ],\n",
              "       [764.45],\n",
              "       [772.  ],\n",
              "       [776.55],\n",
              "       [765.7 ],\n",
              "       [759.15],\n",
              "       [764.3 ],\n",
              "       [756.9 ],\n",
              "       [765.55],\n",
              "       [792.85],\n",
              "       [819.4 ],\n",
              "       [796.  ],\n",
              "       [807.1 ],\n",
              "       [811.8 ],\n",
              "       [817.6 ],\n",
              "       [813.5 ],\n",
              "       [806.1 ],\n",
              "       [820.75],\n",
              "       [803.8 ],\n",
              "       [814.8 ],\n",
              "       [811.  ],\n",
              "       [808.65],\n",
              "       [816.6 ],\n",
              "       [814.  ],\n",
              "       [828.95],\n",
              "       [840.4 ],\n",
              "       [822.75],\n",
              "       [826.35],\n",
              "       [829.2 ],\n",
              "       [838.05],\n",
              "       [828.4 ],\n",
              "       [834.9 ],\n",
              "       [832.6 ],\n",
              "       [834.  ],\n",
              "       [833.35],\n",
              "       [844.1 ],\n",
              "       [848.65],\n",
              "       [848.6 ],\n",
              "       [848.75],\n",
              "       [835.85],\n",
              "       [837.4 ],\n",
              "       [846.85],\n",
              "       [848.35],\n",
              "       [843.25],\n",
              "       [847.6 ],\n",
              "       [851.2 ],\n",
              "       [837.3 ],\n",
              "       [846.15],\n",
              "       [841.2 ],\n",
              "       [835.25],\n",
              "       [826.9 ],\n",
              "       [821.9 ],\n",
              "       [826.9 ],\n",
              "       [825.75],\n",
              "       [819.05],\n",
              "       [822.7 ],\n",
              "       [816.4 ],\n",
              "       [809.85],\n",
              "       [818.65],\n",
              "       [809.85],\n",
              "       [835.55],\n",
              "       [832.  ],\n",
              "       [816.85],\n",
              "       [817.1 ],\n",
              "       [802.1 ],\n",
              "       [802.3 ],\n",
              "       [802.1 ],\n",
              "       [797.45],\n",
              "       [792.9 ],\n",
              "       [783.4 ],\n",
              "       [783.15],\n",
              "       [766.  ],\n",
              "       [765.95],\n",
              "       [768.9 ],\n",
              "       [775.55],\n",
              "       [780.3 ],\n",
              "       [792.35],\n",
              "       [793.1 ],\n",
              "       [788.6 ],\n",
              "       [808.7 ],\n",
              "       [799.9 ],\n",
              "       [803.35],\n",
              "       [799.9 ],\n",
              "       [764.65],\n",
              "       [761.45],\n",
              "       [760.6 ],\n",
              "       [755.05],\n",
              "       [771.35],\n",
              "       [772.5 ],\n",
              "       [784.1 ],\n",
              "       [780.2 ],\n",
              "       [792.15],\n",
              "       [782.75],\n",
              "       [779.65],\n",
              "       [785.1 ],\n",
              "       [783.35],\n",
              "       [784.25],\n",
              "       [769.15],\n",
              "       [765.75],\n",
              "       [769.8 ],\n",
              "       [753.1 ],\n",
              "       [761.25],\n",
              "       [740.4 ]])"
            ]
          },
          "metadata": {},
          "execution_count": 2519
        }
      ]
    },
    {
      "cell_type": "code",
      "source": [
        "full_data=pd.DataFrame(np.concatenate((df_array.flatten(),forecast.flatten())))"
      ],
      "metadata": {
        "id": "6eOr0kCuB2mx"
      },
      "execution_count": 2520,
      "outputs": []
    },
    {
      "cell_type": "code",
      "source": [
        "full_data.plot()"
      ],
      "metadata": {
        "colab": {
          "base_uri": "https://localhost:8080/",
          "height": 447
        },
        "id": "sgcXY_K-CYlg",
        "outputId": "e53d2970-99f1-4277-9bcd-b675497a686a"
      },
      "execution_count": 2521,
      "outputs": [
        {
          "output_type": "execute_result",
          "data": {
            "text/plain": [
              "<Axes: >"
            ]
          },
          "metadata": {},
          "execution_count": 2521
        },
        {
          "output_type": "display_data",
          "data": {
            "text/plain": [
              "<Figure size 640x480 with 1 Axes>"
            ],
            "image/png": "[encoded data removed]"
          },
          "metadata": {}
        }
      ]
    },
    {
      "cell_type": "markdown",
      "source": [
        "LSTM  MODEL\n",
        "\n",
        "\n"
      ],
      "metadata": {
        "id": "exsg8AG9EAoU"
      }
    },
    {
      "cell_type": "code",
      "source": [
        "from tensorflow.keras.callbacks import EarlyStopping\n",
        "early_stop=EarlyStopping(monitor='val_loss',patience=2)"
      ],
      "metadata": {
        "id": "_FN1mqW8Ca_m"
      },
      "execution_count": 2523,
      "outputs": []
    },
    {
      "cell_type": "code",
      "source": [
        "length"
      ],
      "metadata": {
        "colab": {
          "base_uri": "https://localhost:8080/"
        },
        "id": "RyTO-FblEfic",
        "outputId": "09928e82-a218-4b36-ca28-8c665cf0b49f"
      },
      "execution_count": 2524,
      "outputs": [
        {
          "output_type": "execute_result",
          "data": {
            "text/plain": [
              "16"
            ]
          },
          "metadata": {},
          "execution_count": 2524
        }
      ]
    },
    {
      "cell_type": "code",
      "source": [
        "scaled_test.shape"
      ],
      "metadata": {
        "colab": {
          "base_uri": "https://localhost:8080/"
        },
        "id": "O8-LxcSlGfcd",
        "outputId": "a3e427f8-29c0-4c4f-d21a-9a4d500659a3"
      },
      "execution_count": 2525,
      "outputs": [
        {
          "output_type": "execute_result",
          "data": {
            "text/plain": [
              "(16, 1)"
            ]
          },
          "metadata": {},
          "execution_count": 2525
        }
      ]
    },
    {
      "cell_type": "code",
      "source": [
        "length=15\n",
        "\n",
        "generator=TimeseriesGenerator(scaled_train,scaled_train,\n",
        "                              length=length,batch_size=32)\n",
        "\n",
        "validation_generator=TimeseriesGenerator(scaled_test,scaled_test,\n",
        "                                         length=length,batch_size=32)"
      ],
      "metadata": {
        "id": "p_wsDisaGjEK"
      },
      "execution_count": 2542,
      "outputs": []
    },
    {
      "cell_type": "code",
      "source": [
        "model=Sequential()\n",
        "\n",
        "model.add(LSTM(30,input_shape=(length,n_features)))\n",
        "\n",
        "model.add(Dropout(rate=0.2))\n",
        "\n",
        "model.add(Dense(1))\n",
        "\n",
        "model.compile(optimizer='adam',loss='mse')"
      ],
      "metadata": {
        "id": "Bq9g2BZFHBur"
      },
      "execution_count": 2543,
      "outputs": []
    },
    {
      "cell_type": "code",
      "source": [
        "model.fit_generator(generator,epochs=30,validation_data=validation_generator,callbacks=[early_stop],shuffle=False)"
      ],
      "metadata": {
        "colab": {
          "base_uri": "https://localhost:8080/"
        },
        "id": "RIs-TbuIJdfy",
        "outputId": "b5a687f5-302e-4b71-c686-392b89157254"
      },
      "execution_count": 2544,
      "outputs": [
        {
          "output_type": "stream",
          "name": "stdout",
          "text": [
            "Epoch 1/30\n"
          ]
        },
        {
          "output_type": "stream",
          "name": "stderr",
          "text": [
            "<ipython-input-2544-72d3e58ee897>:1: UserWarning: `Model.fit_generator` is deprecated and will be removed in a future version. Please use `Model.fit`, which supports generators.\n",
            "  model.fit_generator(generator,epochs=30,validation_data=validation_generator,callbacks=[early_stop],shuffle=False)\n"
          ]
        },
        {
          "output_type": "stream",
          "name": "stdout",
          "text": [
            "\r1/7 [===>..........................] - ETA: 17s - loss: 1.0323"
          ]
        },
        {
          "output_type": "stream",
          "name": "stderr",
          "text": [
            "WARNING:tensorflow:5 out of the last 13 calls to <function Model.make_test_function.<locals>.test_function at 0x791b8ffddab0> triggered tf.function retracing. Tracing is expensive and the excessive number of tracings could be due to (1) creating @tf.function repeatedly in a loop, (2) passing tensors with different shapes, (3) passing Python objects instead of tensors. For (1), please define your @tf.function outside of the loop. For (2), @tf.function has reduce_retracing=True option that can avoid unnecessary retracing. For (3), please refer to https://www.tensorflow.org/guide/function#controlling_retracing and https://www.tensorflow.org/api_docs/python/tf/function for  more details.\n"
          ]
        },
        {
          "output_type": "stream",
          "name": "stdout",
          "text": [
            "\b\b\b\b\b\b\b\b\b\b\b\b\b\b\b\b\b\b\b\b\b\b\b\b\b\b\b\b\b\b\b\b\b\b\b\b\b\b\b\b\b\b\b\b\b\b\b\b\b\b\b\b\b\b\b\b\b\b\b\b\b\b\r7/7 [==============================] - 4s 93ms/step - loss: 0.2899 - val_loss: 0.0030\n",
            "Epoch 2/30\n",
            "7/7 [==============================] - 0s 15ms/step - loss: 0.1917 - val_loss: 0.0163\n",
            "Epoch 3/30\n",
            "7/7 [==============================] - 0s 15ms/step - loss: 0.1138 - val_loss: 0.0427\n"
          ]
        },
        {
          "output_type": "execute_result",
          "data": {
            "text/plain": [
              "<keras.callbacks.History at 0x791b8dfb95d0>"
            ]
          },
          "metadata": {},
          "execution_count": 2544
        }
      ]
    },
    {
      "cell_type": "code",
      "source": [
        "test_predictions=[]\n",
        "\n",
        "first_eval_batch=scaled_train[-length:]\n",
        "current_batch=first_eval_batch.reshape((1,length,n_features))\n",
        "\n",
        "for i in range(len(test)):\n",
        "  current_pred=model.predict(current_batch)[0]\n",
        "\n",
        "  test_predictions.append(current_pred)\n",
        "\n",
        "  current_batch=np.append(current_batch[:,1:,:],[[current_pred]],axis=1)\n"
      ],
      "metadata": {
        "colab": {
          "base_uri": "https://localhost:8080/"
        },
        "id": "BUkc2rSsNGGT",
        "outputId": "6d043764-9d4b-400f-f7b7-50dd864ab310"
      },
      "execution_count": 2546,
      "outputs": [
        {
          "output_type": "stream",
          "name": "stdout",
          "text": [
            "1/1 [==============================] - 0s 442ms/step\n",
            "1/1 [==============================] - 0s 21ms/step\n",
            "1/1 [==============================] - 0s 22ms/step\n",
            "1/1 [==============================] - 0s 23ms/step\n",
            "1/1 [==============================] - 0s 21ms/step\n",
            "1/1 [==============================] - 0s 25ms/step\n",
            "1/1 [==============================] - 0s 25ms/step\n",
            "1/1 [==============================] - 0s 21ms/step\n",
            "1/1 [==============================] - 0s 22ms/step\n",
            "1/1 [==============================] - 0s 21ms/step\n",
            "1/1 [==============================] - 0s 25ms/step\n",
            "1/1 [==============================] - 0s 22ms/step\n",
            "1/1 [==============================] - 0s 23ms/step\n",
            "1/1 [==============================] - 0s 20ms/step\n",
            "1/1 [==============================] - 0s 23ms/step\n",
            "1/1 [==============================] - 0s 23ms/step\n"
          ]
        }
      ]
    },
    {
      "cell_type": "code",
      "source": [
        "true_predictions=scaler.inverse_transform(test_predictions)\n",
        "test['LSTM_predictions']=true_predictions\n",
        "test.plot(figsize=(12,8))"
      ],
      "metadata": {
        "colab": {
          "base_uri": "https://localhost:8080/",
          "height": 797
        },
        "id": "hkrhPDTqOUGx",
        "outputId": "46fc1508-9196-4efd-d38c-be75e64d7037"
      },
      "execution_count": 2547,
      "outputs": [
        {
          "output_type": "stream",
          "name": "stderr",
          "text": [
            "<ipython-input-2547-4c88822f2ef9>:2: SettingWithCopyWarning: \n",
            "A value is trying to be set on a copy of a slice from a DataFrame.\n",
            "Try using .loc[row_indexer,col_indexer] = value instead\n",
            "\n",
            "See the caveats in the documentation: https://pandas.pydata.org/pandas-docs/stable/user_guide/indexing.html#returning-a-view-versus-a-copy\n",
            "  test['LSTM_predictions']=true_predictions\n"
          ]
        },
        {
          "output_type": "execute_result",
          "data": {
            "text/plain": [
              "<Axes: >"
            ]
          },
          "metadata": {},
          "execution_count": 2547
        },
        {
          "output_type": "display_data",
          "data": {
            "text/plain": [
              "<Figure size 1200x800 with 1 Axes>"
            ],
            "image/png": "[encoded data removed]"
          },
          "metadata": {}
        }
      ]
    },
    {
      "cell_type": "code",
      "source": [
        "forecast=[]\n",
        "\n",
        "first_eval_batch=scaled_train[-length:]\n",
        "current_batch=first_eval_batch.reshape((1,length,n_features))\n",
        "\n",
        "for i in range(15):\n",
        "  current_pred=model.predict(current_batch)[0]\n",
        "\n",
        "  forecast.append(current_pred)\n",
        "\n",
        "  current_batch=np.append(current_batch[:,1:,:],[[current_pred]],axis=1)\n"
      ],
      "metadata": {
        "colab": {
          "base_uri": "https://localhost:8080/"
        },
        "id": "9Y9JzuqGOtYK",
        "outputId": "846ec91a-b37f-4c8b-8995-132802ff4ef3"
      },
      "execution_count": 2548,
      "outputs": [
        {
          "output_type": "stream",
          "name": "stdout",
          "text": [
            "1/1 [==============================] - 0s 34ms/step\n",
            "1/1 [==============================] - 0s 34ms/step\n",
            "1/1 [==============================] - 0s 33ms/step\n",
            "1/1 [==============================] - 0s 34ms/step\n",
            "1/1 [==============================] - 0s 43ms/step\n",
            "1/1 [==============================] - 0s 38ms/step\n",
            "1/1 [==============================] - 0s 37ms/step\n",
            "1/1 [==============================] - 0s 46ms/step\n",
            "1/1 [==============================] - 0s 35ms/step\n",
            "1/1 [==============================] - 0s 34ms/step\n",
            "1/1 [==============================] - 0s 38ms/step\n",
            "1/1 [==============================] - 0s 23ms/step\n",
            "1/1 [==============================] - 0s 21ms/step\n",
            "1/1 [==============================] - 0s 24ms/step\n",
            "1/1 [==============================] - 0s 27ms/step\n"
          ]
        }
      ]
    },
    {
      "cell_type": "code",
      "source": [
        "forecast=scaler.inverse_transform(forecast)"
      ],
      "metadata": {
        "id": "n2GZ0CjnPqj3"
      },
      "execution_count": 2549,
      "outputs": []
    },
    {
      "cell_type": "code",
      "source": [
        "full_data=pd.DataFrame(np.concatenate((df_array.flatten(),forecast.flatten())))"
      ],
      "metadata": {
        "id": "hbrRI2QwPxLw"
      },
      "execution_count": 2550,
      "outputs": []
    },
    {
      "cell_type": "code",
      "source": [
        "full_data.plot()"
      ],
      "metadata": {
        "colab": {
          "base_uri": "https://localhost:8080/",
          "height": 447
        },
        "id": "h7vroNayP54k",
        "outputId": "7247df99-f6ea-4306-aa98-0c38254754b9"
      },
      "execution_count": 2551,
      "outputs": [
        {
          "output_type": "execute_result",
          "data": {
            "text/plain": [
              "<Axes: >"
            ]
          },
          "metadata": {},
          "execution_count": 2551
        },
        {
          "output_type": "display_data",
          "data": {
            "text/plain": [
              "<Figure size 640x480 with 1 Axes>"
            ],
            "image/png": "[encoded data removed]"
          },
          "metadata": {}
        }
      ]
    },
    {
      "cell_type": "code",
      "source": [
        "forecast"
      ],
      "metadata": {
        "colab": {
          "base_uri": "https://localhost:8080/"
        },
        "id": "-GSN6CAzP8Ax",
        "outputId": "5fa12acd-8555-4638-9ea4-a5eb9de567ae"
      },
      "execution_count": 2552,
      "outputs": [
        {
          "output_type": "execute_result",
          "data": {
            "text/plain": [
              "array([[775.158988  ],\n",
              "       [774.37717714],\n",
              "       [773.88587449],\n",
              "       [773.49382078],\n",
              "       [773.17410878],\n",
              "       [772.85607184],\n",
              "       [772.59465649],\n",
              "       [772.40372296],\n",
              "       [772.1224911 ],\n",
              "       [771.93279134],\n",
              "       [771.7450231 ],\n",
              "       [771.59905737],\n",
              "       [771.67287545],\n",
              "       [771.74640473],\n",
              "       [771.81017246]])"
            ]
          },
          "metadata": {},
          "execution_count": 2552
        }
      ]
    },
    {
      "cell_type": "code",
      "source": [
        "full_data.tail(30)"
      ],
      "metadata": {
        "colab": {
          "base_uri": "https://localhost:8080/",
          "height": 990
        },
        "id": "mPCdx3_CRmse",
        "outputId": "18dcb11d-b3d8-4549-8d92-04c71fb51767"
      },
      "execution_count": 2553,
      "outputs": [
        {
          "output_type": "execute_result",
          "data": {
            "text/plain": [
              "              0\n",
              "239  772.500000\n",
              "240  784.100000\n",
              "241  780.200000\n",
              "242  792.150000\n",
              "243  782.750000\n",
              "244  779.650000\n",
              "245  785.100000\n",
              "246  783.350000\n",
              "247  784.250000\n",
              "248  769.150000\n",
              "249  765.750000\n",
              "250  769.800000\n",
              "251  753.100000\n",
              "252  761.250000\n",
              "253  740.400000\n",
              "254  775.158988\n",
              "255  774.377177\n",
              "256  773.885874\n",
              "257  773.493821\n",
              "258  773.174109\n",
              "259  772.856072\n",
              "260  772.594656\n",
              "261  772.403723\n",
              "262  772.122491\n",
              "263  771.932791\n",
              "264  771.745023\n",
              "265  771.599057\n",
              "266  771.672875\n",
              "267  771.746405\n",
              "268  771.810172"
            ],
            "text/html": [
              "\n",
              "  <div id=\"df-70a220ad-e916-45ab-b08e-48a2b8538bb0\" class=\"colab-df-container\">\n",
              "    <div>\n",
              "<style scoped>\n",
              "    .dataframe tbody tr th:only-of-type {\n",
              "        vertical-align: middle;\n",
              "    }\n",
              "\n",
              "    .dataframe tbody tr th {\n",
              "        vertical-align: top;\n",
              "    }\n",
              "\n",
              "    .dataframe thead th {\n",
              "        text-align: right;\n",
              "    }\n",
              "</style>\n",
              "<table border=\"1\" class=\"dataframe\">\n",
              "  <thead>\n",
              "    <tr style=\"text-align: right;\">\n",
              "      <th></th>\n",
              "      <th>0</th>\n",
              "    </tr>\n",
              "  </thead>\n",
              "  <tbody>\n",
              "    <tr>\n",
              "      <th>239</th>\n",
              "      <td>772.500000</td>\n",
              "    </tr>\n",
              "    <tr>\n",
              "      <th>240</th>\n",
              "      <td>784.100000</td>\n",
              "    </tr>\n",
              "    <tr>\n",
              "      <th>241</th>\n",
              "      <td>780.200000</td>\n",
              "    </tr>\n",
              "    <tr>\n",
              "      <th>242</th>\n",
              "      <td>792.150000</td>\n",
              "    </tr>\n",
              "    <tr>\n",
              "      <th>243</th>\n",
              "      <td>782.750000</td>\n",
              "    </tr>\n",
              "    <tr>\n",
              "      <th>244</th>\n",
              "      <td>779.650000</td>\n",
              "    </tr>\n",
              "    <tr>\n",
              "      <th>245</th>\n",
              "      <td>785.100000</td>\n",
              "    </tr>\n",
              "    <tr>\n",
              "      <th>246</th>\n",
              "      <td>783.350000</td>\n",
              "    </tr>\n",
              "    <tr>\n",
              "      <th>247</th>\n",
              "      <td>784.250000</td>\n",
              "    </tr>\n",
              "    <tr>\n",
              "      <th>248</th>\n",
              "      <td>769.150000</td>\n",
              "    </tr>\n",
              "    <tr>\n",
              "      <th>249</th>\n",
              "      <td>765.750000</td>\n",
              "    </tr>\n",
              "    <tr>\n",
              "      <th>250</th>\n",
              "      <td>769.800000</td>\n",
              "    </tr>\n",
              "    <tr>\n",
              "      <th>251</th>\n",
              "      <td>753.100000</td>\n",
              "    </tr>\n",
              "    <tr>\n",
              "      <th>252</th>\n",
              "      <td>761.250000</td>\n",
              "    </tr>\n",
              "    <tr>\n",
              "      <th>253</th>\n",
              "      <td>740.400000</td>\n",
              "    </tr>\n",
              "    <tr>\n",
              "      <th>254</th>\n",
              "      <td>775.158988</td>\n",
              "    </tr>\n",
              "    <tr>\n",
              "      <th>255</th>\n",
              "      <td>774.377177</td>\n",
              "    </tr>\n",
              "    <tr>\n",
              "      <th>256</th>\n",
              "      <td>773.885874</td>\n",
              "    </tr>\n",
              "    <tr>\n",
              "      <th>257</th>\n",
              "      <td>773.493821</td>\n",
              "    </tr>\n",
              "    <tr>\n",
              "      <th>258</th>\n",
              "      <td>773.174109</td>\n",
              "    </tr>\n",
              "    <tr>\n",
              "      <th>259</th>\n",
              "      <td>772.856072</td>\n",
              "    </tr>\n",
              "    <tr>\n",
              "      <th>260</th>\n",
              "      <td>772.594656</td>\n",
              "    </tr>\n",
              "    <tr>\n",
              "      <th>261</th>\n",
              "      <td>772.403723</td>\n",
              "    </tr>\n",
              "    <tr>\n",
              "      <th>262</th>\n",
              "      <td>772.122491</td>\n",
              "    </tr>\n",
              "    <tr>\n",
              "      <th>263</th>\n",
              "      <td>771.932791</td>\n",
              "    </tr>\n",
              "    <tr>\n",
              "      <th>264</th>\n",
              "      <td>771.745023</td>\n",
              "    </tr>\n",
              "    <tr>\n",
              "      <th>265</th>\n",
              "      <td>771.599057</td>\n",
              "    </tr>\n",
              "    <tr>\n",
              "      <th>266</th>\n",
              "      <td>771.672875</td>\n",
              "    </tr>\n",
              "    <tr>\n",
              "      <th>267</th>\n",
              "      <td>771.746405</td>\n",
              "    </tr>\n",
              "    <tr>\n",
              "      <th>268</th>\n",
              "      <td>771.810172</td>\n",
              "    </tr>\n",
              "  </tbody>\n",
              "</table>\n",
              "</div>\n",
              "    <div class=\"colab-df-buttons\">\n",
              "\n",
              "  <div class=\"colab-df-container\">\n",
              "    <button class=\"colab-df-convert\" onclick=\"convertToInteractive('df-70a220ad-e916-45ab-b08e-48a2b8538bb0')\"\n",
              "            title=\"Convert this dataframe to an interactive table.\"\n",
              "            style=\"display:none;\">\n",
              "\n",
              "  <svg xmlns=\"http://www.w3.org/2000/svg\" height=\"24px\" viewBox=\"0 -960 960 960\">\n",
              "    <path d=\"M120-120v-720h720v720H120Zm60-500h600v-160H180v160Zm220 220h160v-160H400v160Zm0 220h160v-160H400v160ZM180-400h160v-160H180v160Zm440 0h160v-160H620v160ZM180-180h160v-160H180v160Zm440 0h160v-160H620v160Z\"/>\n",
              "  </svg>\n",
              "    </button>\n",
              "\n",
              "  <style>\n",
              "    .colab-df-container {\n",
              "      display:flex;\n",
              "      gap: 12px;\n",
              "    }\n",
              "\n",
              "    .colab-df-convert {\n",
              "      background-color: #E8F0FE;\n",
              "      border: none;\n",
              "      border-radius: 50%;\n",
              "      cursor: pointer;\n",
              "      display: none;\n",
              "      fill: #1967D2;\n",
              "      height: 32px;\n",
              "      padding: 0 0 0 0;\n",
              "      width: 32px;\n",
              "    }\n",
              "\n",
              "    .colab-df-convert:hover {\n",
              "      background-color: #E2EBFA;\n",
              "      box-shadow: 0px 1px 2px rgba(60, 64, 67, 0.3), 0px 1px 3px 1px rgba(60, 64, 67, 0.15);\n",
              "      fill: #174EA6;\n",
              "    }\n",
              "\n",
              "    .colab-df-buttons div {\n",
              "      margin-bottom: 4px;\n",
              "    }\n",
              "\n",
              "    [theme=dark] .colab-df-convert {\n",
              "      background-color: #3B4455;\n",
              "      fill: #D2E3FC;\n",
              "    }\n",
              "\n",
              "    [theme=dark] .colab-df-convert:hover {\n",
              "      background-color: #434B5C;\n",
              "      box-shadow: 0px 1px 3px 1px rgba(0, 0, 0, 0.15);\n",
              "      filter: drop-shadow(0px 1px 2px rgba(0, 0, 0, 0.3));\n",
              "      fill: #FFFFFF;\n",
              "    }\n",
              "  </style>\n",
              "\n",
              "    <script>\n",
              "      const buttonEl =\n",
              "        document.querySelector('#df-70a220ad-e916-45ab-b08e-48a2b8538bb0 button.colab-df-convert');\n",
              "      buttonEl.style.display =\n",
              "        google.colab.kernel.accessAllowed ? 'block' : 'none';\n",
              "\n",
              "      async function convertToInteractive(key) {\n",
              "        const element = document.querySelector('#df-70a220ad-e916-45ab-b08e-48a2b8538bb0');\n",
              "        const dataTable =\n",
              "          await google.colab.kernel.invokeFunction('convertToInteractive',\n",
              "                                                    [key], {});\n",
              "        if (!dataTable) return;\n",
              "\n",
              "        const docLinkHtml = 'Like what you see? Visit the ' +\n",
              "          '<a target=\"_blank\" href=https://colab.research.google.com/notebooks/data_table.ipynb>data table notebook</a>'\n",
              "          + ' to learn more about interactive tables.';\n",
              "        element.innerHTML = '';\n",
              "        dataTable['output_type'] = 'display_data';\n",
              "        await google.colab.output.renderOutput(dataTable, element);\n",
              "        const docLink = document.createElement('div');\n",
              "        docLink.innerHTML = docLinkHtml;\n",
              "        element.appendChild(docLink);\n",
              "      }\n",
              "    </script>\n",
              "  </div>\n",
              "\n",
              "\n",
              "<div id=\"df-33990301-3b08-4d26-9637-3ebe1b5c904e\">\n",
              "  <button class=\"colab-df-quickchart\" onclick=\"quickchart('df-33990301-3b08-4d26-9637-3ebe1b5c904e')\"\n",
              "            title=\"Suggest charts.\"\n",
              "            style=\"display:none;\">\n",
              "\n",
              "<svg xmlns=\"http://www.w3.org/2000/svg\" height=\"24px\"viewBox=\"0 0 24 24\"\n",
              "     width=\"24px\">\n",
              "    <g>\n",
              "        <path d=\"M19 3H5c-1.1 0-2 .9-2 2v14c0 1.1.9 2 2 2h14c1.1 0 2-.9 2-2V5c0-1.1-.9-2-2-2zM9 17H7v-7h2v7zm4 0h-2V7h2v10zm4 0h-2v-4h2v4z\"/>\n",
              "    </g>\n",
              "</svg>\n",
              "  </button>\n",
              "\n",
              "<style>\n",
              "  .colab-df-quickchart {\n",
              "      --bg-color: #E8F0FE;\n",
              "      --fill-color: #1967D2;\n",
              "      --hover-bg-color: #E2EBFA;\n",
              "      --hover-fill-color: #174EA6;\n",
              "      --disabled-fill-color: #AAA;\n",
              "      --disabled-bg-color: #DDD;\n",
              "  }\n",
              "\n",
              "  [theme=dark] .colab-df-quickchart {\n",
              "      --bg-color: #3B4455;\n",
              "      --fill-color: #D2E3FC;\n",
              "      --hover-bg-color: #434B5C;\n",
              "      --hover-fill-color: #FFFFFF;\n",
              "      --disabled-bg-color: #3B4455;\n",
              "      --disabled-fill-color: #666;\n",
              "  }\n",
              "\n",
              "  .colab-df-quickchart {\n",
              "    background-color: var(--bg-color);\n",
              "    border: none;\n",
              "    border-radius: 50%;\n",
              "    cursor: pointer;\n",
              "    display: none;\n",
              "    fill: var(--fill-color);\n",
              "    height: 32px;\n",
              "    padding: 0;\n",
              "    width: 32px;\n",
              "  }\n",
              "\n",
              "  .colab-df-quickchart:hover {\n",
              "    background-color: var(--hover-bg-color);\n",
              "    box-shadow: 0 1px 2px rgba(60, 64, 67, 0.3), 0 1px 3px 1px rgba(60, 64, 67, 0.15);\n",
              "    fill: var(--button-hover-fill-color);\n",
              "  }\n",
              "\n",
              "  .colab-df-quickchart-complete:disabled,\n",
              "  .colab-df-quickchart-complete:disabled:hover {\n",
              "    background-color: var(--disabled-bg-color);\n",
              "    fill: var(--disabled-fill-color);\n",
              "    box-shadow: none;\n",
              "  }\n",
              "\n",
              "  .colab-df-spinner {\n",
              "    border: 2px solid var(--fill-color);\n",
              "    border-color: transparent;\n",
              "    border-bottom-color: var(--fill-color);\n",
              "    animation:\n",
              "      spin 1s steps(1) infinite;\n",
              "  }\n",
              "\n",
              "  @keyframes spin {\n",
              "    0% {\n",
              "      border-color: transparent;\n",
              "      border-bottom-color: var(--fill-color);\n",
              "      border-left-color: var(--fill-color);\n",
              "    }\n",
              "    20% {\n",
              "      border-color: transparent;\n",
              "      border-left-color: var(--fill-color);\n",
              "      border-top-color: var(--fill-color);\n",
              "    }\n",
              "    30% {\n",
              "      border-color: transparent;\n",
              "      border-left-color: var(--fill-color);\n",
              "      border-top-color: var(--fill-color);\n",
              "      border-right-color: var(--fill-color);\n",
              "    }\n",
              "    40% {\n",
              "      border-color: transparent;\n",
              "      border-right-color: var(--fill-color);\n",
              "      border-top-color: var(--fill-color);\n",
              "    }\n",
              "    60% {\n",
              "      border-color: transparent;\n",
              "      border-right-color: var(--fill-color);\n",
              "    }\n",
              "    80% {\n",
              "      border-color: transparent;\n",
              "      border-right-color: var(--fill-color);\n",
              "      border-bottom-color: var(--fill-color);\n",
              "    }\n",
              "    90% {\n",
              "      border-color: transparent;\n",
              "      border-bottom-color: var(--fill-color);\n",
              "    }\n",
              "  }\n",
              "</style>\n",
              "\n",
              "  <script>\n",
              "    async function quickchart(key) {\n",
              "      const quickchartButtonEl =\n",
              "        document.querySelector('#' + key + ' button');\n",
              "      quickchartButtonEl.disabled = true;  // To prevent multiple clicks.\n",
              "      quickchartButtonEl.classList.add('colab-df-spinner');\n",
              "      try {\n",
              "        const charts = await google.colab.kernel.invokeFunction(\n",
              "            'suggestCharts', [key], {});\n",
              "      } catch (error) {\n",
              "        console.error('Error during call to suggestCharts:', error);\n",
              "      }\n",
              "      quickchartButtonEl.classList.remove('colab-df-spinner');\n",
              "      quickchartButtonEl.classList.add('colab-df-quickchart-complete');\n",
              "    }\n",
              "    (() => {\n",
              "      let quickchartButtonEl =\n",
              "        document.querySelector('#df-33990301-3b08-4d26-9637-3ebe1b5c904e button');\n",
              "      quickchartButtonEl.style.display =\n",
              "        google.colab.kernel.accessAllowed ? 'block' : 'none';\n",
              "    })();\n",
              "  </script>\n",
              "</div>\n",
              "    </div>\n",
              "  </div>\n"
            ]
          },
          "metadata": {},
          "execution_count": 2553
        }
      ]
    },
    {
      "cell_type": "code",
      "source": [],
      "metadata": {
        "id": "rWptoNgBRr_t"
      },
      "execution_count": null,
      "outputs": []
    }
  ]
}